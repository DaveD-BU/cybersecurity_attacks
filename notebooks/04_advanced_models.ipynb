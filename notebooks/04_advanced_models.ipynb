{
 "cells": [
  {
   "cell_type": "markdown",
   "id": "684493dc",
   "metadata": {},
   "source": [
    "# Phase 4: Advanced Machine Learning Models\n",
    "\n",
    "\n",
    "This notebook orchestrates advanced supervised models for cybersecurity attack classification and severity prediction. The workflow follows the Phase 4 implementation plan and builds on the cleaned feature sets produced during Phase 3."
   ]
  },
  {
   "cell_type": "markdown",
   "id": "0eb0c92a",
   "metadata": {},
   "source": [
    "## Objectives & Scope\n",
    "\n",
    "\n",
    "- Configure a reproducible environment for advanced classifiers and regressors.\n",
    "- Load standardized train, validation, and test splits with consistent data types.\n",
    "- Prepare shared preprocessing pipelines (imputation, scaling, encoding) for downstream models.\n",
    "- Persist dataset summaries and metadata for reporting and audit trails."
   ]
  },
  {
   "cell_type": "markdown",
   "id": "77defc20",
   "metadata": {},
   "source": [
    "## Reproducibility & Artifacts\n",
    "\n",
    "\n",
    "\n",
    "- Random seeds are fixed to ensure deterministic behaviour across executions.\n",
    "\n",
    "- All data loading happens from the processed datasets directory without mutating source files.\n",
    "\n",
    "- Derived summaries are exported to the `reports/` folder for later phases.\n"
   ]
  },
  {
   "cell_type": "code",
   "execution_count": null,
   "id": "c7e96d8a",
   "metadata": {},
   "outputs": [],
   "source": [
    "# Imports and global configuration\n",
    "import warnings\n",
    "from pathlib import Path\n",
    "from typing import Dict, List, Tuple\n",
    "\n",
    "import numpy as np\n",
    "import pandas as pd\n",
    "import matplotlib as mpl\n",
    "import matplotlib.pyplot as plt\n",
    "import seaborn as sns\n",
    "from IPython.display import Markdown, display\n",
    "from pandas.api.types import (\n",
    "    CategoricalDtype,\n",
    "    is_numeric_dtype,\n",
    "    is_string_dtype,\n",
    "    )\n",
    "from sklearn.compose import ColumnTransformer\n",
    "from sklearn.ensemble import (\n",
    "    GradientBoostingClassifier,\n",
    "    GradientBoostingRegressor,\n",
    "    RandomForestClassifier,\n",
    "    RandomForestRegressor,\n",
    "    )\n",
    "from sklearn.impute import SimpleImputer\n",
    "from sklearn.linear_model import LogisticRegression\n",
    "from sklearn.metrics import (\n",
    "    ConfusionMatrixDisplay,\n",
    "    PrecisionRecallDisplay,\n",
    "    RocCurveDisplay,\n",
    "    accuracy_score,\n",
    "    balanced_accuracy_score,\n",
    "    classification_report,\n",
    "    mean_absolute_error,\n",
    "    mean_squared_error,\n",
    "    precision_recall_fscore_support,\n",
    "    r2_score,\n",
    "    roc_auc_score,\n",
    "    )\n",
    "from sklearn.model_selection import (\n",
    "    GridSearchCV,\n",
    "    KFold,\n",
    "    RandomizedSearchCV,\n",
    "    StratifiedKFold,\n",
    "    cross_validate,\n",
    "    )\n",
    "from sklearn.neighbors import KNeighborsClassifier, KNeighborsRegressor\n",
    "from sklearn.pipeline import Pipeline\n",
    "from sklearn.preprocessing import OneHotEncoder, StandardScaler\n",
    "from sklearn.svm import SVC, SVR\n",
    "from sklearn.tree import DecisionTreeClassifier\n",
    "from xgboost import XGBClassifier, XGBRegressor\n",
    "\n",
    "# Matplotlib and seaborn configuration for consistent visuals\n",
    "COLOR_PALETTE: List[str] = [\n",
    "    \"#c6d4e1\",\n",
    "    \"#9bbcd4\",\n",
    "    \"#6fa3c7\",\n",
    "    \"#4a8ab8\",\n",
    "    \"#2f6fa1\",\n",
    "    \"#1f4f75\",\n",
    "    \"#d3d3d3\",\n",
    "    \"#a9a9a9\",\n",
    "    \"#696969\",\n",
    "]\n",
    "\n",
    "sns.set_theme(style=\"whitegrid\", palette=COLOR_PALETTE)\n",
    "mpl.rcParams[\"axes.prop_cycle\"] = mpl.cycler(color=COLOR_PALETTE)\n",
    "\n",
    "RANDOM_STATE: int = 42\n",
    "np.random.seed(RANDOM_STATE)\n",
    "warnings.filterwarnings(\"ignore\", category=UserWarning)\n",
    "\n",
    "DATA_DIR = Path(\"../cybersecurity_attacks_data/processed\")\n",
    "ARTIFACT_METRICS = Path(\"../models/phase4_metrics.csv\")\n",
    "ARTIFACT_FIGURES = Path(\"../reports/visualizations/phase4\")\n",
    "ARTIFACT_SUMMARY = Path(\"../reports/phase4_data_snapshot.md\")\n",
    "ARTIFACT_IMPORTANCES = Path(\"../models/phase4_feature_importances\")\n",
    "\n",
    "ARTIFACT_FIGURES.mkdir(parents=True, exist_ok=True)\n",
    "ARTIFACT_SUMMARY.parent.mkdir(parents=True, exist_ok=True)\n",
    "ARTIFACT_IMPORTANCES.mkdir(parents=True, exist_ok=True)\n"
   ]
  },
  {
   "cell_type": "markdown",
   "id": "97eb8401",
   "metadata": {},
   "source": [
    "## Data Loading & Preparation\n",
    "This section loads the preprocessed splits and performs lightweight validation before model training. We reuse the Phase 3 engineered features and extend them with model-specific augmentations when necessary."
   ]
  },
  {
   "cell_type": "code",
   "execution_count": null,
   "id": "ed0b4f4a",
   "metadata": {},
   "outputs": [
    {
     "data": {
      "text/markdown": [
       "### Train Split\n",
       "- Shape: 24,000 rows × 87 columns\n",
       "- Missing features (>0.01%): ['IDS/IPS Alerts_class']"
      ],
      "text/plain": [
       "<IPython.core.display.Markdown object>"
      ]
     },
     "metadata": {},
     "output_type": "display_data"
    },
    {
     "data": {
      "application/vnd.microsoft.datawrangler.viewer.v0+json": {
       "columns": [
        {
         "name": "index",
         "rawType": "int64",
         "type": "integer"
        },
        {
         "name": "Timestamp",
         "rawType": "float64",
         "type": "float"
        },
        {
         "name": "Source IP Address",
         "rawType": "float64",
         "type": "float"
        },
        {
         "name": "Destination IP Address",
         "rawType": "float64",
         "type": "float"
        },
        {
         "name": "Source Port",
         "rawType": "float64",
         "type": "float"
        },
        {
         "name": "Destination Port",
         "rawType": "float64",
         "type": "float"
        },
        {
         "name": "Packet Length",
         "rawType": "float64",
         "type": "float"
        },
        {
         "name": "Packet Type",
         "rawType": "float64",
         "type": "float"
        },
        {
         "name": "Malware Indicators",
         "rawType": "float64",
         "type": "float"
        },
        {
         "name": "Anomaly Scores",
         "rawType": "float64",
         "type": "float"
        },
        {
         "name": "Alerts/Warnings",
         "rawType": "float64",
         "type": "float"
        },
        {
         "name": "Attack Signature",
         "rawType": "float64",
         "type": "float"
        },
        {
         "name": "Geo-location Data",
         "rawType": "float64",
         "type": "float"
        },
        {
         "name": "Proxy Information",
         "rawType": "float64",
         "type": "float"
        },
        {
         "name": "Firewall Logs",
         "rawType": "float64",
         "type": "float"
        },
        {
         "name": "IDS/IPS Alerts",
         "rawType": "float64",
         "type": "float"
        },
        {
         "name": "Log Source",
         "rawType": "float64",
         "type": "float"
        },
        {
         "name": "Browser",
         "rawType": "float64",
         "type": "float"
        },
        {
         "name": "Year",
         "rawType": "float64",
         "type": "float"
        },
        {
         "name": "Month",
         "rawType": "float64",
         "type": "float"
        },
        {
         "name": "Day",
         "rawType": "float64",
         "type": "float"
        },
        {
         "name": "Hour",
         "rawType": "float64",
         "type": "float"
        },
        {
         "name": "Minute",
         "rawType": "float64",
         "type": "float"
        },
        {
         "name": "Second",
         "rawType": "float64",
         "type": "float"
        },
        {
         "name": "DayOfWeek",
         "rawType": "float64",
         "type": "float"
        },
        {
         "name": "Protocol_TCP",
         "rawType": "bool",
         "type": "boolean"
        },
        {
         "name": "Protocol_UDP",
         "rawType": "bool",
         "type": "boolean"
        },
        {
         "name": "Traffic Type_FTP",
         "rawType": "bool",
         "type": "boolean"
        },
        {
         "name": "Traffic Type_HTTP",
         "rawType": "bool",
         "type": "boolean"
        },
        {
         "name": "Attack Type_Intrusion",
         "rawType": "bool",
         "type": "boolean"
        },
        {
         "name": "Attack Type_Malware",
         "rawType": "bool",
         "type": "boolean"
        },
        {
         "name": "Action Taken_Ignored",
         "rawType": "bool",
         "type": "boolean"
        },
        {
         "name": "Action Taken_Logged",
         "rawType": "bool",
         "type": "boolean"
        },
        {
         "name": "Severity Level_Low",
         "rawType": "bool",
         "type": "boolean"
        },
        {
         "name": "Severity Level_Medium",
         "rawType": "bool",
         "type": "boolean"
        },
        {
         "name": "Network Segment_Segment B",
         "rawType": "bool",
         "type": "boolean"
        },
        {
         "name": "Network Segment_Segment C",
         "rawType": "bool",
         "type": "boolean"
        },
        {
         "name": "Device/OS_Linux",
         "rawType": "bool",
         "type": "boolean"
        },
        {
         "name": "Device/OS_Macintosh",
         "rawType": "bool",
         "type": "boolean"
        },
        {
         "name": "Device/OS_Windows",
         "rawType": "bool",
         "type": "boolean"
        },
        {
         "name": "Device/OS_iPad",
         "rawType": "bool",
         "type": "boolean"
        },
        {
         "name": "Device/OS_iPhone",
         "rawType": "bool",
         "type": "boolean"
        },
        {
         "name": "Device/OS_iPod",
         "rawType": "bool",
         "type": "boolean"
        },
        {
         "name": "hour",
         "rawType": "int64",
         "type": "integer"
        },
        {
         "name": "day",
         "rawType": "int64",
         "type": "integer"
        },
        {
         "name": "weekday",
         "rawType": "int64",
         "type": "integer"
        },
        {
         "name": "month",
         "rawType": "int64",
         "type": "integer"
        },
        {
         "name": "year",
         "rawType": "int64",
         "type": "integer"
        },
        {
         "name": "quarter",
         "rawType": "int64",
         "type": "integer"
        },
        {
         "name": "hour_sin",
         "rawType": "float64",
         "type": "float"
        },
        {
         "name": "hour_cos",
         "rawType": "float64",
         "type": "float"
        },
        {
         "name": "weekday_sin",
         "rawType": "float64",
         "type": "float"
        },
        {
         "name": "weekday_cos",
         "rawType": "float64",
         "type": "float"
        },
        {
         "name": "month_sin",
         "rawType": "float64",
         "type": "float"
        },
        {
         "name": "month_cos",
         "rawType": "float64",
         "type": "float"
        },
        {
         "name": "Source IP Address_class",
         "rawType": "int64",
         "type": "integer"
        },
        {
         "name": "Source IP Address_type",
         "rawType": "object",
         "type": "string"
        },
        {
         "name": "Destination IP Address_class",
         "rawType": "int64",
         "type": "integer"
        },
        {
         "name": "Destination IP Address_type",
         "rawType": "object",
         "type": "string"
        },
        {
         "name": "IDS/IPS Alerts_class",
         "rawType": "float64",
         "type": "float"
        },
        {
         "name": "IDS/IPS Alerts_type",
         "rawType": "object",
         "type": "string"
        },
        {
         "name": "Source Port_category",
         "rawType": "object",
         "type": "string"
        },
        {
         "name": "Source Port_is_http",
         "rawType": "int64",
         "type": "integer"
        },
        {
         "name": "Source Port_is_https",
         "rawType": "int64",
         "type": "integer"
        },
        {
         "name": "Source Port_is_ftp",
         "rawType": "int64",
         "type": "integer"
        },
        {
         "name": "Source Port_is_ssh",
         "rawType": "int64",
         "type": "integer"
        },
        {
         "name": "Source Port_is_email",
         "rawType": "int64",
         "type": "integer"
        },
        {
         "name": "Source Port_is_database",
         "rawType": "int64",
         "type": "integer"
        },
        {
         "name": "Destination Port_category",
         "rawType": "object",
         "type": "string"
        },
        {
         "name": "Destination Port_is_http",
         "rawType": "int64",
         "type": "integer"
        },
        {
         "name": "Destination Port_is_https",
         "rawType": "int64",
         "type": "integer"
        },
        {
         "name": "Destination Port_is_ftp",
         "rawType": "int64",
         "type": "integer"
        },
        {
         "name": "Destination Port_is_ssh",
         "rawType": "int64",
         "type": "integer"
        },
        {
         "name": "Destination Port_is_email",
         "rawType": "int64",
         "type": "integer"
        },
        {
         "name": "Destination Port_is_database",
         "rawType": "int64",
         "type": "integer"
        },
        {
         "name": "Timestamp_x_Source Port",
         "rawType": "float64",
         "type": "float"
        },
        {
         "name": "Timestamp_div_Source Port",
         "rawType": "float64",
         "type": "float"
        },
        {
         "name": "Source Port_div_Timestamp",
         "rawType": "float64",
         "type": "float"
        },
        {
         "name": "Timestamp_x_Destination Port",
         "rawType": "float64",
         "type": "float"
        },
        {
         "name": "Timestamp_div_Destination Port",
         "rawType": "float64",
         "type": "float"
        },
        {
         "name": "Destination Port_div_Timestamp",
         "rawType": "float64",
         "type": "float"
        },
        {
         "name": "Timestamp_x_Packet Length",
         "rawType": "float64",
         "type": "float"
        },
        {
         "name": "Timestamp_div_Packet Length",
         "rawType": "float64",
         "type": "float"
        },
        {
         "name": "Packet Length_div_Timestamp",
         "rawType": "float64",
         "type": "float"
        },
        {
         "name": "Timestamp_x_Packet Type",
         "rawType": "float64",
         "type": "float"
        },
        {
         "name": "Timestamp_div_Packet Type",
         "rawType": "float64",
         "type": "float"
        },
        {
         "name": "Packet Type_div_Timestamp",
         "rawType": "float64",
         "type": "float"
        },
        {
         "name": "attackSuccessful",
         "rawType": "int64",
         "type": "integer"
        }
       ],
       "ref": "697a0fe8-dbb5-4e4f-b721-da46131133f8",
       "rows": [
        [
         "0",
         "0.029500384195009",
         "1.371827541293436",
         "1.4711606551385528",
         "-1.0472065578233265",
         "-0.5290533883528062",
         "-0.0467569756867321",
         "-0.9882193865543484",
         "1.0",
         "-0.3695763160396549",
         "-0.9966555924993838",
         "1.0038072475144908",
         "-0.4047066181455325",
         "0.7792336717434475",
         "-0.998051897547974",
         "0.997503117202112",
         "1.005816917982842",
         "-0.5019133370443936",
         "-0.379063657210557",
         "1.713720993148426",
         "-1.3258176871504126",
         "-1.3740861168972975",
         "-0.6055085112440547",
         "-1.2439412359199664",
         "0.9998800476423236",
         "False",
         "True",
         "True",
         "False",
         "False",
         "True",
         "False",
         "True",
         "False",
         "False",
         "False",
         "False",
         "False",
         "True",
         "False",
         "False",
         "False",
         "False",
         "0",
         "1",
         "3",
         "1",
         "1970",
         "1",
         "0.0",
         "1.0",
         "0.4338837391175582",
         "-0.900968867902419",
         "0.4999999999999999",
         "0.8660254037844387",
         "78",
         "public",
         "84",
         "public",
         null,
         "unknown",
         "well_known",
         "0",
         "0",
         "0",
         "0",
         "0",
         "0",
         "well_known",
         "0",
         "0",
         "0",
         "0",
         "0",
         "0",
         "-0.030892995787321",
         "-0.0281705497891768",
         "-35.498053039592804",
         "-0.0156072782160791",
         "-0.0557606952380829",
         "-17.933773523687798",
         "-0.0013793487465552",
         "-0.6309302531019482",
         "-1.5849610475592444",
         "-0.0291528515723094",
         "-0.0298520600738156",
         "-33.49851463074816",
         "1"
        ],
        [
         "1",
         "-1.2111241336854186",
         "-1.5604478742966306",
         "-1.4036972761626627",
         "-1.476943454586138",
         "-0.5959194808729485",
         "0.4531961641864885",
         "1.0119210507362415",
         "-1.0",
         "-0.4097797766340725",
         "1.0033556300950752",
         "-0.9962071926418966",
         "-0.4443519697901603",
         "0.552588948639594",
         "1.00195190496287",
         "-1.0025031328271852",
         "-0.9942167228659192",
         "-0.5019133370443936",
         "-1.300518916306619",
         "0.2135428568162094",
         "1.6382918326427631",
         "0.6493174221080156",
         "0.1433253635752759",
         "-1.0711020040182329",
         "0.0021202395921066",
         "False",
         "True",
         "False",
         "False",
         "False",
         "False",
         "False",
         "True",
         "False",
         "True",
         "False",
         "False",
         "False",
         "False",
         "False",
         "True",
         "False",
         "False",
         "23",
         "31",
         "2",
         "12",
         "1969",
         "4",
         "-0.2588190451025215",
         "0.965925826289068",
         "0.9749279121818236",
         "-0.2225209339563143",
         "-2.4492935982947064e-16",
         "1.0",
         "109",
         "public",
         "118",
         "public",
         null,
         "unknown",
         "well_known",
         "0",
         "0",
         "0",
         "0",
         "0",
         "0",
         "well_known",
         "0",
         "0",
         "0",
         "0",
         "0",
         "0",
         "1.7887618619379857",
         "0.8200206569350351",
         "1.2194814930214073",
         "0.7217324650185142",
         "2.032362077230454",
         "0.4920383214394089",
         "-0.5488768117399156",
         "-2.672405908676196",
         "-0.3741946472071125",
         "-1.225562005930969",
         "-1.1968563366042042",
         "-0.8355221656860345",
         "1"
        ],
        [
         "2",
         "1.3582955079957295",
         "0.6558843397611084",
         "0.7462107894040524",
         "0.8056297188537447",
         "-1.323317046122258",
         "-1.630743125573523",
         "-0.9882193865543484",
         "-1.0",
         "-0.0593858226603133",
         "1.0033556300950752",
         "1.0038072475144908",
         "-0.1414614832252042",
         "0.7792336717434475",
         "-0.998051897547974",
         "0.997503117202112",
         "1.005816917982842",
         "-0.5019133370443936",
         "1.4638468609815671",
         "-0.3865283977166771",
         "-0.0717713518532997",
         "-0.2178555231799757",
         "1.2377748729266054",
         "-0.1492927672089873",
         "-1.494519472483219",
         "True",
         "False",
         "False",
         "False",
         "False",
         "True",
         "True",
         "False",
         "True",
         "False",
         "False",
         "True",
         "False",
         "False",
         "True",
         "False",
         "False",
         "False",
         "0",
         "1",
         "3",
         "1",
         "1970",
         "1",
         "0.0",
         "1.0",
         "0.4338837391175582",
         "-0.900968867902419",
         "0.4999999999999999",
         "0.8660254037844387",
         "37",
         "public",
         "42",
         "public",
         null,
         "unknown",
         "well_known",
         "0",
         "0",
         "0",
         "0",
         "0",
         "0",
         "well_known",
         "0",
         "0",
         "0",
         "0",
         "0",
         "0",
         "1.094283228226904",
         "1.686004698372193",
         "0.5931181456318975",
         "-1.7974555994020405",
         "-1.0264324201371802",
         "-0.9742482608460012",
         "-2.215031062161432",
         "-0.8329303953664245",
         "-1.200580509887724",
         "-1.3422939536710667",
         "-1.3744878315700872",
         "-0.7275437292265697",
         "1"
        ]
       ],
       "shape": {
        "columns": 87,
        "rows": 3
       }
      },
      "text/html": [
       "<div>\n",
       "<style scoped>\n",
       "    .dataframe tbody tr th:only-of-type {\n",
       "        vertical-align: middle;\n",
       "    }\n",
       "\n",
       "    .dataframe tbody tr th {\n",
       "        vertical-align: top;\n",
       "    }\n",
       "\n",
       "    .dataframe thead th {\n",
       "        text-align: right;\n",
       "    }\n",
       "</style>\n",
       "<table border=\"1\" class=\"dataframe\">\n",
       "  <thead>\n",
       "    <tr style=\"text-align: right;\">\n",
       "      <th></th>\n",
       "      <th>Timestamp</th>\n",
       "      <th>Source IP Address</th>\n",
       "      <th>Destination IP Address</th>\n",
       "      <th>Source Port</th>\n",
       "      <th>Destination Port</th>\n",
       "      <th>Packet Length</th>\n",
       "      <th>Packet Type</th>\n",
       "      <th>Malware Indicators</th>\n",
       "      <th>Anomaly Scores</th>\n",
       "      <th>Alerts/Warnings</th>\n",
       "      <th>...</th>\n",
       "      <th>Timestamp_x_Destination Port</th>\n",
       "      <th>Timestamp_div_Destination Port</th>\n",
       "      <th>Destination Port_div_Timestamp</th>\n",
       "      <th>Timestamp_x_Packet Length</th>\n",
       "      <th>Timestamp_div_Packet Length</th>\n",
       "      <th>Packet Length_div_Timestamp</th>\n",
       "      <th>Timestamp_x_Packet Type</th>\n",
       "      <th>Timestamp_div_Packet Type</th>\n",
       "      <th>Packet Type_div_Timestamp</th>\n",
       "      <th>attackSuccessful</th>\n",
       "    </tr>\n",
       "  </thead>\n",
       "  <tbody>\n",
       "    <tr>\n",
       "      <th>0</th>\n",
       "      <td>0.029500</td>\n",
       "      <td>1.371828</td>\n",
       "      <td>1.471161</td>\n",
       "      <td>-1.047207</td>\n",
       "      <td>-0.529053</td>\n",
       "      <td>-0.046757</td>\n",
       "      <td>-0.988219</td>\n",
       "      <td>1.0</td>\n",
       "      <td>-0.369576</td>\n",
       "      <td>-0.996656</td>\n",
       "      <td>...</td>\n",
       "      <td>-0.015607</td>\n",
       "      <td>-0.055761</td>\n",
       "      <td>-17.933774</td>\n",
       "      <td>-0.001379</td>\n",
       "      <td>-0.630930</td>\n",
       "      <td>-1.584961</td>\n",
       "      <td>-0.029153</td>\n",
       "      <td>-0.029852</td>\n",
       "      <td>-33.498515</td>\n",
       "      <td>1</td>\n",
       "    </tr>\n",
       "    <tr>\n",
       "      <th>1</th>\n",
       "      <td>-1.211124</td>\n",
       "      <td>-1.560448</td>\n",
       "      <td>-1.403697</td>\n",
       "      <td>-1.476943</td>\n",
       "      <td>-0.595919</td>\n",
       "      <td>0.453196</td>\n",
       "      <td>1.011921</td>\n",
       "      <td>-1.0</td>\n",
       "      <td>-0.409780</td>\n",
       "      <td>1.003356</td>\n",
       "      <td>...</td>\n",
       "      <td>0.721732</td>\n",
       "      <td>2.032362</td>\n",
       "      <td>0.492038</td>\n",
       "      <td>-0.548877</td>\n",
       "      <td>-2.672406</td>\n",
       "      <td>-0.374195</td>\n",
       "      <td>-1.225562</td>\n",
       "      <td>-1.196856</td>\n",
       "      <td>-0.835522</td>\n",
       "      <td>1</td>\n",
       "    </tr>\n",
       "    <tr>\n",
       "      <th>2</th>\n",
       "      <td>1.358296</td>\n",
       "      <td>0.655884</td>\n",
       "      <td>0.746211</td>\n",
       "      <td>0.805630</td>\n",
       "      <td>-1.323317</td>\n",
       "      <td>-1.630743</td>\n",
       "      <td>-0.988219</td>\n",
       "      <td>-1.0</td>\n",
       "      <td>-0.059386</td>\n",
       "      <td>1.003356</td>\n",
       "      <td>...</td>\n",
       "      <td>-1.797456</td>\n",
       "      <td>-1.026432</td>\n",
       "      <td>-0.974248</td>\n",
       "      <td>-2.215031</td>\n",
       "      <td>-0.832930</td>\n",
       "      <td>-1.200581</td>\n",
       "      <td>-1.342294</td>\n",
       "      <td>-1.374488</td>\n",
       "      <td>-0.727544</td>\n",
       "      <td>1</td>\n",
       "    </tr>\n",
       "  </tbody>\n",
       "</table>\n",
       "<p>3 rows × 87 columns</p>\n",
       "</div>"
      ],
      "text/plain": [
       "   Timestamp  Source IP Address  Destination IP Address  Source Port  \\\n",
       "0   0.029500           1.371828                1.471161    -1.047207   \n",
       "1  -1.211124          -1.560448               -1.403697    -1.476943   \n",
       "2   1.358296           0.655884                0.746211     0.805630   \n",
       "\n",
       "   Destination Port  Packet Length  Packet Type  Malware Indicators  \\\n",
       "0         -0.529053      -0.046757    -0.988219                 1.0   \n",
       "1         -0.595919       0.453196     1.011921                -1.0   \n",
       "2         -1.323317      -1.630743    -0.988219                -1.0   \n",
       "\n",
       "   Anomaly Scores  Alerts/Warnings  ...  Timestamp_x_Destination Port  \\\n",
       "0       -0.369576        -0.996656  ...                     -0.015607   \n",
       "1       -0.409780         1.003356  ...                      0.721732   \n",
       "2       -0.059386         1.003356  ...                     -1.797456   \n",
       "\n",
       "   Timestamp_div_Destination Port  Destination Port_div_Timestamp  \\\n",
       "0                       -0.055761                      -17.933774   \n",
       "1                        2.032362                        0.492038   \n",
       "2                       -1.026432                       -0.974248   \n",
       "\n",
       "   Timestamp_x_Packet Length  Timestamp_div_Packet Length  \\\n",
       "0                  -0.001379                    -0.630930   \n",
       "1                  -0.548877                    -2.672406   \n",
       "2                  -2.215031                    -0.832930   \n",
       "\n",
       "   Packet Length_div_Timestamp  Timestamp_x_Packet Type  \\\n",
       "0                    -1.584961                -0.029153   \n",
       "1                    -0.374195                -1.225562   \n",
       "2                    -1.200581                -1.342294   \n",
       "\n",
       "   Timestamp_div_Packet Type  Packet Type_div_Timestamp  attackSuccessful  \n",
       "0                  -0.029852                 -33.498515                 1  \n",
       "1                  -1.196856                  -0.835522                 1  \n",
       "2                  -1.374488                  -0.727544                 1  \n",
       "\n",
       "[3 rows x 87 columns]"
      ]
     },
     "metadata": {},
     "output_type": "display_data"
    },
    {
     "data": {
      "text/markdown": [
       "### Validation Split\n",
       "- Shape: 8,000 rows × 87 columns\n",
       "- Missing features (>0.01%): ['IDS/IPS Alerts_class']"
      ],
      "text/plain": [
       "<IPython.core.display.Markdown object>"
      ]
     },
     "metadata": {},
     "output_type": "display_data"
    },
    {
     "data": {
      "application/vnd.microsoft.datawrangler.viewer.v0+json": {
       "columns": [
        {
         "name": "index",
         "rawType": "int64",
         "type": "integer"
        },
        {
         "name": "Timestamp",
         "rawType": "float64",
         "type": "float"
        },
        {
         "name": "Source IP Address",
         "rawType": "float64",
         "type": "float"
        },
        {
         "name": "Destination IP Address",
         "rawType": "float64",
         "type": "float"
        },
        {
         "name": "Source Port",
         "rawType": "float64",
         "type": "float"
        },
        {
         "name": "Destination Port",
         "rawType": "float64",
         "type": "float"
        },
        {
         "name": "Packet Length",
         "rawType": "float64",
         "type": "float"
        },
        {
         "name": "Packet Type",
         "rawType": "float64",
         "type": "float"
        },
        {
         "name": "Malware Indicators",
         "rawType": "float64",
         "type": "float"
        },
        {
         "name": "Anomaly Scores",
         "rawType": "float64",
         "type": "float"
        },
        {
         "name": "Alerts/Warnings",
         "rawType": "float64",
         "type": "float"
        },
        {
         "name": "Attack Signature",
         "rawType": "float64",
         "type": "float"
        },
        {
         "name": "Geo-location Data",
         "rawType": "float64",
         "type": "float"
        },
        {
         "name": "Proxy Information",
         "rawType": "float64",
         "type": "float"
        },
        {
         "name": "Firewall Logs",
         "rawType": "float64",
         "type": "float"
        },
        {
         "name": "IDS/IPS Alerts",
         "rawType": "float64",
         "type": "float"
        },
        {
         "name": "Log Source",
         "rawType": "float64",
         "type": "float"
        },
        {
         "name": "Browser",
         "rawType": "float64",
         "type": "float"
        },
        {
         "name": "Year",
         "rawType": "float64",
         "type": "float"
        },
        {
         "name": "Month",
         "rawType": "float64",
         "type": "float"
        },
        {
         "name": "Day",
         "rawType": "float64",
         "type": "float"
        },
        {
         "name": "Hour",
         "rawType": "float64",
         "type": "float"
        },
        {
         "name": "Minute",
         "rawType": "float64",
         "type": "float"
        },
        {
         "name": "Second",
         "rawType": "float64",
         "type": "float"
        },
        {
         "name": "DayOfWeek",
         "rawType": "float64",
         "type": "float"
        },
        {
         "name": "Protocol_TCP",
         "rawType": "bool",
         "type": "boolean"
        },
        {
         "name": "Protocol_UDP",
         "rawType": "bool",
         "type": "boolean"
        },
        {
         "name": "Traffic Type_FTP",
         "rawType": "bool",
         "type": "boolean"
        },
        {
         "name": "Traffic Type_HTTP",
         "rawType": "bool",
         "type": "boolean"
        },
        {
         "name": "Attack Type_Intrusion",
         "rawType": "bool",
         "type": "boolean"
        },
        {
         "name": "Attack Type_Malware",
         "rawType": "bool",
         "type": "boolean"
        },
        {
         "name": "Action Taken_Ignored",
         "rawType": "bool",
         "type": "boolean"
        },
        {
         "name": "Action Taken_Logged",
         "rawType": "bool",
         "type": "boolean"
        },
        {
         "name": "Severity Level_Low",
         "rawType": "bool",
         "type": "boolean"
        },
        {
         "name": "Severity Level_Medium",
         "rawType": "bool",
         "type": "boolean"
        },
        {
         "name": "Network Segment_Segment B",
         "rawType": "bool",
         "type": "boolean"
        },
        {
         "name": "Network Segment_Segment C",
         "rawType": "bool",
         "type": "boolean"
        },
        {
         "name": "Device/OS_Linux",
         "rawType": "bool",
         "type": "boolean"
        },
        {
         "name": "Device/OS_Macintosh",
         "rawType": "bool",
         "type": "boolean"
        },
        {
         "name": "Device/OS_Windows",
         "rawType": "bool",
         "type": "boolean"
        },
        {
         "name": "Device/OS_iPad",
         "rawType": "bool",
         "type": "boolean"
        },
        {
         "name": "Device/OS_iPhone",
         "rawType": "bool",
         "type": "boolean"
        },
        {
         "name": "Device/OS_iPod",
         "rawType": "bool",
         "type": "boolean"
        },
        {
         "name": "hour",
         "rawType": "int64",
         "type": "integer"
        },
        {
         "name": "day",
         "rawType": "int64",
         "type": "integer"
        },
        {
         "name": "weekday",
         "rawType": "int64",
         "type": "integer"
        },
        {
         "name": "month",
         "rawType": "int64",
         "type": "integer"
        },
        {
         "name": "year",
         "rawType": "int64",
         "type": "integer"
        },
        {
         "name": "quarter",
         "rawType": "int64",
         "type": "integer"
        },
        {
         "name": "hour_sin",
         "rawType": "float64",
         "type": "float"
        },
        {
         "name": "hour_cos",
         "rawType": "float64",
         "type": "float"
        },
        {
         "name": "weekday_sin",
         "rawType": "float64",
         "type": "float"
        },
        {
         "name": "weekday_cos",
         "rawType": "float64",
         "type": "float"
        },
        {
         "name": "month_sin",
         "rawType": "float64",
         "type": "float"
        },
        {
         "name": "month_cos",
         "rawType": "float64",
         "type": "float"
        },
        {
         "name": "Source IP Address_class",
         "rawType": "int64",
         "type": "integer"
        },
        {
         "name": "Source IP Address_type",
         "rawType": "object",
         "type": "string"
        },
        {
         "name": "Destination IP Address_class",
         "rawType": "int64",
         "type": "integer"
        },
        {
         "name": "Destination IP Address_type",
         "rawType": "object",
         "type": "string"
        },
        {
         "name": "IDS/IPS Alerts_class",
         "rawType": "float64",
         "type": "float"
        },
        {
         "name": "IDS/IPS Alerts_type",
         "rawType": "object",
         "type": "string"
        },
        {
         "name": "Source Port_category",
         "rawType": "object",
         "type": "string"
        },
        {
         "name": "Source Port_is_http",
         "rawType": "int64",
         "type": "integer"
        },
        {
         "name": "Source Port_is_https",
         "rawType": "int64",
         "type": "integer"
        },
        {
         "name": "Source Port_is_ftp",
         "rawType": "int64",
         "type": "integer"
        },
        {
         "name": "Source Port_is_ssh",
         "rawType": "int64",
         "type": "integer"
        },
        {
         "name": "Source Port_is_email",
         "rawType": "int64",
         "type": "integer"
        },
        {
         "name": "Source Port_is_database",
         "rawType": "int64",
         "type": "integer"
        },
        {
         "name": "Destination Port_category",
         "rawType": "object",
         "type": "string"
        },
        {
         "name": "Destination Port_is_http",
         "rawType": "int64",
         "type": "integer"
        },
        {
         "name": "Destination Port_is_https",
         "rawType": "int64",
         "type": "integer"
        },
        {
         "name": "Destination Port_is_ftp",
         "rawType": "int64",
         "type": "integer"
        },
        {
         "name": "Destination Port_is_ssh",
         "rawType": "int64",
         "type": "integer"
        },
        {
         "name": "Destination Port_is_email",
         "rawType": "int64",
         "type": "integer"
        },
        {
         "name": "Destination Port_is_database",
         "rawType": "int64",
         "type": "integer"
        },
        {
         "name": "Timestamp_x_Source Port",
         "rawType": "float64",
         "type": "float"
        },
        {
         "name": "Timestamp_div_Source Port",
         "rawType": "float64",
         "type": "float"
        },
        {
         "name": "Source Port_div_Timestamp",
         "rawType": "float64",
         "type": "float"
        },
        {
         "name": "Timestamp_x_Destination Port",
         "rawType": "float64",
         "type": "float"
        },
        {
         "name": "Timestamp_div_Destination Port",
         "rawType": "float64",
         "type": "float"
        },
        {
         "name": "Destination Port_div_Timestamp",
         "rawType": "float64",
         "type": "float"
        },
        {
         "name": "Timestamp_x_Packet Length",
         "rawType": "float64",
         "type": "float"
        },
        {
         "name": "Timestamp_div_Packet Length",
         "rawType": "float64",
         "type": "float"
        },
        {
         "name": "Packet Length_div_Timestamp",
         "rawType": "float64",
         "type": "float"
        },
        {
         "name": "Timestamp_x_Packet Type",
         "rawType": "float64",
         "type": "float"
        },
        {
         "name": "Timestamp_div_Packet Type",
         "rawType": "float64",
         "type": "float"
        },
        {
         "name": "Packet Type_div_Timestamp",
         "rawType": "float64",
         "type": "float"
        },
        {
         "name": "attackSuccessful",
         "rawType": "int64",
         "type": "integer"
        }
       ],
       "ref": "76341015-83af-4914-91e4-85ebebb243e2",
       "rows": [
        [
         "0",
         "1.4541745460642603",
         "-0.0330388691647009",
         "0.6733780529230209",
         "0.5492207555019117",
         "-1.662492877746168",
         "-0.8519699653863906",
         "1.0119210507362415",
         "1.0",
         "0.3769603574118558",
         "-0.9966555924993838",
         "-0.9962071926418966",
         "-1.252324236307674",
         "-0.1351764407792138",
         "1.00195190496287",
         "0.997503117202112",
         "1.005816917982842",
         "-0.5019133370443936",
         "1.4638468609815671",
         "-0.0864927704502338",
         "0.6122539219451254",
         "1.516490367396007",
         "1.4105826901926046",
         "-1.359167390521122",
         "-0.4967596644330019",
         "True",
         "False",
         "True",
         "False",
         "False",
         "False",
         "False",
         "True",
         "True",
         "False",
         "True",
         "False",
         "False",
         "False",
         "True",
         "False",
         "False",
         "False",
         "0",
         "1",
         "3",
         "1",
         "1970",
         "1",
         "0.0",
         "1.0",
         "0.4338837391175582",
         "-0.900968867902419",
         "0.4999999999999999",
         "0.8660254037844387",
         "199",
         "public",
         "38",
         "public",
         null,
         "unknown",
         "well_known",
         "0",
         "0",
         "0",
         "0",
         "0",
         "0",
         "well_known",
         "0",
         "0",
         "0",
         "0",
         "0",
         "0",
         "0.7986628428210626",
         "2.647704962020775",
         "0.3776855764746591",
         "-2.4175548258316",
         "-0.8746952087894827",
         "-1.143255375232065",
         "-1.238913037676138",
         "-1.7068378255249088",
         "-0.5858787460098717",
         "1.4715098346072435",
         "1.4370434636534286",
         "0.6958731649624083",
         "1"
        ],
        [
         "1",
         "-1.0522784644734176",
         "-1.1085558184606945",
         "0.3830863374837609",
         "0.5623671700969627",
         "1.6246593050254317",
         "-0.9769582503546956",
         "-0.9882193865543484",
         "-1.0",
         "0.905150650048858",
         "-0.9966555924993838",
         "-0.9962071926418966",
         "-0.425322201000739",
         "0.7792336717434475",
         "1.00195190496287",
         "-1.0025031328271852",
         "1.005816917982842",
         "1.992375827047512",
         "-1.300518916306619",
         "1.1136497386155393",
         "-1.667830324049625",
         "0.7938462463226809",
         "-1.181534568797386",
         "1.175808010704303",
         "0.0021202395921066",
         "False",
         "True",
         "False",
         "True",
         "False",
         "True",
         "False",
         "True",
         "False",
         "False",
         "False",
         "False",
         "True",
         "False",
         "False",
         "False",
         "False",
         "False",
         "23",
         "31",
         "2",
         "12",
         "1969",
         "4",
         "-0.2588190451025215",
         "0.965925826289068",
         "0.9749279121818236",
         "-0.2225209339563143",
         "-2.4492935982947064e-16",
         "1.0",
         "136",
         "public",
         "221",
         "public",
         null,
         "unknown",
         "well_known",
         "0",
         "0",
         "0",
         "0",
         "0",
         "0",
         "well_known",
         "0",
         "0",
         "0",
         "0",
         "0",
         "0",
         "-0.5917668622198932",
         "-1.871159096254488",
         "-0.5344280952501143",
         "-1.709593998784611",
         "-0.6476917682012279",
         "-1.5439442840616229",
         "1.028032127537876",
         "1.077096666988935",
         "0.928421793871648",
         "1.0398819786462723",
         "1.0648227402122248",
         "0.9391234633316464",
         "1"
        ],
        [
         "2",
         "-0.6556839610264419",
         "0.9183766397302006",
         "-0.6244476175939093",
         "0.3390936369744589",
         "0.9231037078998487",
         "-0.3736494132961457",
         "-0.9882193865543484",
         "1.0",
         "-1.4862620922052852",
         "-0.9966555924993838",
         "-0.9962071926418966",
         "-0.7928346107464382",
         "0.7792336717434475",
         "-0.998051897547974",
         "0.997503117202112",
         "1.005816917982842",
         "1.992375827047512",
         "-0.379063657210557",
         "-0.9865996522495636",
         "-0.8698008379514625",
         "-0.5069131716093062",
         "0.8921592383946065",
         "0.7725164696002581",
         "-1.494519472483219",
         "False",
         "False",
         "False",
         "True",
         "True",
         "False",
         "False",
         "False",
         "True",
         "False",
         "True",
         "False",
         "False",
         "False",
         "True",
         "False",
         "False",
         "False",
         "23",
         "31",
         "2",
         "12",
         "1969",
         "4",
         "-0.2588190451025215",
         "0.965925826289068",
         "0.9749279121818236",
         "-0.2225209339563143",
         "-2.4492935982947064e-16",
         "1.0",
         "52",
         "public",
         "164",
         "public",
         null,
         "unknown",
         "well_known",
         "0",
         "0",
         "0",
         "0",
         "0",
         "0",
         "well_known",
         "0",
         "0",
         "0",
         "0",
         "0",
         "0",
         "-0.2223382590502755",
         "-1.9336368194353968",
         "-0.5171601904295874",
         "-0.6052642956339684",
         "-0.71030367261242",
         "-1.4078485624892512",
         "0.2449959273452229",
         "1.7548106734343214",
         "0.5698620695400818",
         "0.6479596017390756",
         "0.6635004095068782",
         "1.5071581133064766",
         "0"
        ]
       ],
       "shape": {
        "columns": 87,
        "rows": 3
       }
      },
      "text/html": [
       "<div>\n",
       "<style scoped>\n",
       "    .dataframe tbody tr th:only-of-type {\n",
       "        vertical-align: middle;\n",
       "    }\n",
       "\n",
       "    .dataframe tbody tr th {\n",
       "        vertical-align: top;\n",
       "    }\n",
       "\n",
       "    .dataframe thead th {\n",
       "        text-align: right;\n",
       "    }\n",
       "</style>\n",
       "<table border=\"1\" class=\"dataframe\">\n",
       "  <thead>\n",
       "    <tr style=\"text-align: right;\">\n",
       "      <th></th>\n",
       "      <th>Timestamp</th>\n",
       "      <th>Source IP Address</th>\n",
       "      <th>Destination IP Address</th>\n",
       "      <th>Source Port</th>\n",
       "      <th>Destination Port</th>\n",
       "      <th>Packet Length</th>\n",
       "      <th>Packet Type</th>\n",
       "      <th>Malware Indicators</th>\n",
       "      <th>Anomaly Scores</th>\n",
       "      <th>Alerts/Warnings</th>\n",
       "      <th>...</th>\n",
       "      <th>Timestamp_x_Destination Port</th>\n",
       "      <th>Timestamp_div_Destination Port</th>\n",
       "      <th>Destination Port_div_Timestamp</th>\n",
       "      <th>Timestamp_x_Packet Length</th>\n",
       "      <th>Timestamp_div_Packet Length</th>\n",
       "      <th>Packet Length_div_Timestamp</th>\n",
       "      <th>Timestamp_x_Packet Type</th>\n",
       "      <th>Timestamp_div_Packet Type</th>\n",
       "      <th>Packet Type_div_Timestamp</th>\n",
       "      <th>attackSuccessful</th>\n",
       "    </tr>\n",
       "  </thead>\n",
       "  <tbody>\n",
       "    <tr>\n",
       "      <th>0</th>\n",
       "      <td>1.454175</td>\n",
       "      <td>-0.033039</td>\n",
       "      <td>0.673378</td>\n",
       "      <td>0.549221</td>\n",
       "      <td>-1.662493</td>\n",
       "      <td>-0.851970</td>\n",
       "      <td>1.011921</td>\n",
       "      <td>1.0</td>\n",
       "      <td>0.376960</td>\n",
       "      <td>-0.996656</td>\n",
       "      <td>...</td>\n",
       "      <td>-2.417555</td>\n",
       "      <td>-0.874695</td>\n",
       "      <td>-1.143255</td>\n",
       "      <td>-1.238913</td>\n",
       "      <td>-1.706838</td>\n",
       "      <td>-0.585879</td>\n",
       "      <td>1.471510</td>\n",
       "      <td>1.437043</td>\n",
       "      <td>0.695873</td>\n",
       "      <td>1</td>\n",
       "    </tr>\n",
       "    <tr>\n",
       "      <th>1</th>\n",
       "      <td>-1.052278</td>\n",
       "      <td>-1.108556</td>\n",
       "      <td>0.383086</td>\n",
       "      <td>0.562367</td>\n",
       "      <td>1.624659</td>\n",
       "      <td>-0.976958</td>\n",
       "      <td>-0.988219</td>\n",
       "      <td>-1.0</td>\n",
       "      <td>0.905151</td>\n",
       "      <td>-0.996656</td>\n",
       "      <td>...</td>\n",
       "      <td>-1.709594</td>\n",
       "      <td>-0.647692</td>\n",
       "      <td>-1.543944</td>\n",
       "      <td>1.028032</td>\n",
       "      <td>1.077097</td>\n",
       "      <td>0.928422</td>\n",
       "      <td>1.039882</td>\n",
       "      <td>1.064823</td>\n",
       "      <td>0.939123</td>\n",
       "      <td>1</td>\n",
       "    </tr>\n",
       "    <tr>\n",
       "      <th>2</th>\n",
       "      <td>-0.655684</td>\n",
       "      <td>0.918377</td>\n",
       "      <td>-0.624448</td>\n",
       "      <td>0.339094</td>\n",
       "      <td>0.923104</td>\n",
       "      <td>-0.373649</td>\n",
       "      <td>-0.988219</td>\n",
       "      <td>1.0</td>\n",
       "      <td>-1.486262</td>\n",
       "      <td>-0.996656</td>\n",
       "      <td>...</td>\n",
       "      <td>-0.605264</td>\n",
       "      <td>-0.710304</td>\n",
       "      <td>-1.407849</td>\n",
       "      <td>0.244996</td>\n",
       "      <td>1.754811</td>\n",
       "      <td>0.569862</td>\n",
       "      <td>0.647960</td>\n",
       "      <td>0.663500</td>\n",
       "      <td>1.507158</td>\n",
       "      <td>0</td>\n",
       "    </tr>\n",
       "  </tbody>\n",
       "</table>\n",
       "<p>3 rows × 87 columns</p>\n",
       "</div>"
      ],
      "text/plain": [
       "   Timestamp  Source IP Address  Destination IP Address  Source Port  \\\n",
       "0   1.454175          -0.033039                0.673378     0.549221   \n",
       "1  -1.052278          -1.108556                0.383086     0.562367   \n",
       "2  -0.655684           0.918377               -0.624448     0.339094   \n",
       "\n",
       "   Destination Port  Packet Length  Packet Type  Malware Indicators  \\\n",
       "0         -1.662493      -0.851970     1.011921                 1.0   \n",
       "1          1.624659      -0.976958    -0.988219                -1.0   \n",
       "2          0.923104      -0.373649    -0.988219                 1.0   \n",
       "\n",
       "   Anomaly Scores  Alerts/Warnings  ...  Timestamp_x_Destination Port  \\\n",
       "0        0.376960        -0.996656  ...                     -2.417555   \n",
       "1        0.905151        -0.996656  ...                     -1.709594   \n",
       "2       -1.486262        -0.996656  ...                     -0.605264   \n",
       "\n",
       "   Timestamp_div_Destination Port  Destination Port_div_Timestamp  \\\n",
       "0                       -0.874695                       -1.143255   \n",
       "1                       -0.647692                       -1.543944   \n",
       "2                       -0.710304                       -1.407849   \n",
       "\n",
       "   Timestamp_x_Packet Length  Timestamp_div_Packet Length  \\\n",
       "0                  -1.238913                    -1.706838   \n",
       "1                   1.028032                     1.077097   \n",
       "2                   0.244996                     1.754811   \n",
       "\n",
       "   Packet Length_div_Timestamp  Timestamp_x_Packet Type  \\\n",
       "0                    -0.585879                 1.471510   \n",
       "1                     0.928422                 1.039882   \n",
       "2                     0.569862                 0.647960   \n",
       "\n",
       "   Timestamp_div_Packet Type  Packet Type_div_Timestamp  attackSuccessful  \n",
       "0                   1.437043                   0.695873                 1  \n",
       "1                   1.064823                   0.939123                 1  \n",
       "2                   0.663500                   1.507158                 0  \n",
       "\n",
       "[3 rows x 87 columns]"
      ]
     },
     "metadata": {},
     "output_type": "display_data"
    },
    {
     "data": {
      "text/markdown": [
       "### Test Split\n",
       "- Shape: 8,000 rows × 87 columns\n",
       "- Missing features (>0.01%): ['IDS/IPS Alerts_class']"
      ],
      "text/plain": [
       "<IPython.core.display.Markdown object>"
      ]
     },
     "metadata": {},
     "output_type": "display_data"
    },
    {
     "data": {
      "application/vnd.microsoft.datawrangler.viewer.v0+json": {
       "columns": [
        {
         "name": "index",
         "rawType": "int64",
         "type": "integer"
        },
        {
         "name": "Timestamp",
         "rawType": "float64",
         "type": "float"
        },
        {
         "name": "Source IP Address",
         "rawType": "float64",
         "type": "float"
        },
        {
         "name": "Destination IP Address",
         "rawType": "float64",
         "type": "float"
        },
        {
         "name": "Source Port",
         "rawType": "float64",
         "type": "float"
        },
        {
         "name": "Destination Port",
         "rawType": "float64",
         "type": "float"
        },
        {
         "name": "Packet Length",
         "rawType": "float64",
         "type": "float"
        },
        {
         "name": "Packet Type",
         "rawType": "float64",
         "type": "float"
        },
        {
         "name": "Malware Indicators",
         "rawType": "float64",
         "type": "float"
        },
        {
         "name": "Anomaly Scores",
         "rawType": "float64",
         "type": "float"
        },
        {
         "name": "Alerts/Warnings",
         "rawType": "float64",
         "type": "float"
        },
        {
         "name": "Attack Signature",
         "rawType": "float64",
         "type": "float"
        },
        {
         "name": "Geo-location Data",
         "rawType": "float64",
         "type": "float"
        },
        {
         "name": "Proxy Information",
         "rawType": "float64",
         "type": "float"
        },
        {
         "name": "Firewall Logs",
         "rawType": "float64",
         "type": "float"
        },
        {
         "name": "IDS/IPS Alerts",
         "rawType": "float64",
         "type": "float"
        },
        {
         "name": "Log Source",
         "rawType": "float64",
         "type": "float"
        },
        {
         "name": "Browser",
         "rawType": "float64",
         "type": "float"
        },
        {
         "name": "Year",
         "rawType": "float64",
         "type": "float"
        },
        {
         "name": "Month",
         "rawType": "float64",
         "type": "float"
        },
        {
         "name": "Day",
         "rawType": "float64",
         "type": "float"
        },
        {
         "name": "Hour",
         "rawType": "float64",
         "type": "float"
        },
        {
         "name": "Minute",
         "rawType": "float64",
         "type": "float"
        },
        {
         "name": "Second",
         "rawType": "float64",
         "type": "float"
        },
        {
         "name": "DayOfWeek",
         "rawType": "float64",
         "type": "float"
        },
        {
         "name": "Protocol_TCP",
         "rawType": "bool",
         "type": "boolean"
        },
        {
         "name": "Protocol_UDP",
         "rawType": "bool",
         "type": "boolean"
        },
        {
         "name": "Traffic Type_FTP",
         "rawType": "bool",
         "type": "boolean"
        },
        {
         "name": "Traffic Type_HTTP",
         "rawType": "bool",
         "type": "boolean"
        },
        {
         "name": "Attack Type_Intrusion",
         "rawType": "bool",
         "type": "boolean"
        },
        {
         "name": "Attack Type_Malware",
         "rawType": "bool",
         "type": "boolean"
        },
        {
         "name": "Action Taken_Ignored",
         "rawType": "bool",
         "type": "boolean"
        },
        {
         "name": "Action Taken_Logged",
         "rawType": "bool",
         "type": "boolean"
        },
        {
         "name": "Severity Level_Low",
         "rawType": "bool",
         "type": "boolean"
        },
        {
         "name": "Severity Level_Medium",
         "rawType": "bool",
         "type": "boolean"
        },
        {
         "name": "Network Segment_Segment B",
         "rawType": "bool",
         "type": "boolean"
        },
        {
         "name": "Network Segment_Segment C",
         "rawType": "bool",
         "type": "boolean"
        },
        {
         "name": "Device/OS_Linux",
         "rawType": "bool",
         "type": "boolean"
        },
        {
         "name": "Device/OS_Macintosh",
         "rawType": "bool",
         "type": "boolean"
        },
        {
         "name": "Device/OS_Windows",
         "rawType": "bool",
         "type": "boolean"
        },
        {
         "name": "Device/OS_iPad",
         "rawType": "bool",
         "type": "boolean"
        },
        {
         "name": "Device/OS_iPhone",
         "rawType": "bool",
         "type": "boolean"
        },
        {
         "name": "Device/OS_iPod",
         "rawType": "bool",
         "type": "boolean"
        },
        {
         "name": "hour",
         "rawType": "int64",
         "type": "integer"
        },
        {
         "name": "day",
         "rawType": "int64",
         "type": "integer"
        },
        {
         "name": "weekday",
         "rawType": "int64",
         "type": "integer"
        },
        {
         "name": "month",
         "rawType": "int64",
         "type": "integer"
        },
        {
         "name": "year",
         "rawType": "int64",
         "type": "integer"
        },
        {
         "name": "quarter",
         "rawType": "int64",
         "type": "integer"
        },
        {
         "name": "hour_sin",
         "rawType": "float64",
         "type": "float"
        },
        {
         "name": "hour_cos",
         "rawType": "float64",
         "type": "float"
        },
        {
         "name": "weekday_sin",
         "rawType": "float64",
         "type": "float"
        },
        {
         "name": "weekday_cos",
         "rawType": "float64",
         "type": "float"
        },
        {
         "name": "month_sin",
         "rawType": "float64",
         "type": "float"
        },
        {
         "name": "month_cos",
         "rawType": "float64",
         "type": "float"
        },
        {
         "name": "Source IP Address_class",
         "rawType": "int64",
         "type": "integer"
        },
        {
         "name": "Source IP Address_type",
         "rawType": "object",
         "type": "string"
        },
        {
         "name": "Destination IP Address_class",
         "rawType": "int64",
         "type": "integer"
        },
        {
         "name": "Destination IP Address_type",
         "rawType": "object",
         "type": "string"
        },
        {
         "name": "IDS/IPS Alerts_class",
         "rawType": "float64",
         "type": "float"
        },
        {
         "name": "IDS/IPS Alerts_type",
         "rawType": "object",
         "type": "string"
        },
        {
         "name": "Source Port_category",
         "rawType": "object",
         "type": "string"
        },
        {
         "name": "Source Port_is_http",
         "rawType": "int64",
         "type": "integer"
        },
        {
         "name": "Source Port_is_https",
         "rawType": "int64",
         "type": "integer"
        },
        {
         "name": "Source Port_is_ftp",
         "rawType": "int64",
         "type": "integer"
        },
        {
         "name": "Source Port_is_ssh",
         "rawType": "int64",
         "type": "integer"
        },
        {
         "name": "Source Port_is_email",
         "rawType": "int64",
         "type": "integer"
        },
        {
         "name": "Source Port_is_database",
         "rawType": "int64",
         "type": "integer"
        },
        {
         "name": "Destination Port_category",
         "rawType": "object",
         "type": "string"
        },
        {
         "name": "Destination Port_is_http",
         "rawType": "int64",
         "type": "integer"
        },
        {
         "name": "Destination Port_is_https",
         "rawType": "int64",
         "type": "integer"
        },
        {
         "name": "Destination Port_is_ftp",
         "rawType": "int64",
         "type": "integer"
        },
        {
         "name": "Destination Port_is_ssh",
         "rawType": "int64",
         "type": "integer"
        },
        {
         "name": "Destination Port_is_email",
         "rawType": "int64",
         "type": "integer"
        },
        {
         "name": "Destination Port_is_database",
         "rawType": "int64",
         "type": "integer"
        },
        {
         "name": "Timestamp_x_Source Port",
         "rawType": "float64",
         "type": "float"
        },
        {
         "name": "Timestamp_div_Source Port",
         "rawType": "float64",
         "type": "float"
        },
        {
         "name": "Source Port_div_Timestamp",
         "rawType": "float64",
         "type": "float"
        },
        {
         "name": "Timestamp_x_Destination Port",
         "rawType": "float64",
         "type": "float"
        },
        {
         "name": "Timestamp_div_Destination Port",
         "rawType": "float64",
         "type": "float"
        },
        {
         "name": "Destination Port_div_Timestamp",
         "rawType": "float64",
         "type": "float"
        },
        {
         "name": "Timestamp_x_Packet Length",
         "rawType": "float64",
         "type": "float"
        },
        {
         "name": "Timestamp_div_Packet Length",
         "rawType": "float64",
         "type": "float"
        },
        {
         "name": "Packet Length_div_Timestamp",
         "rawType": "float64",
         "type": "float"
        },
        {
         "name": "Timestamp_x_Packet Type",
         "rawType": "float64",
         "type": "float"
        },
        {
         "name": "Timestamp_div_Packet Type",
         "rawType": "float64",
         "type": "float"
        },
        {
         "name": "Packet Type_div_Timestamp",
         "rawType": "float64",
         "type": "float"
        },
        {
         "name": "attackSuccessful",
         "rawType": "int64",
         "type": "integer"
        }
       ],
       "ref": "1668cb80-35f6-4b91-ab16-da7162de58e5",
       "rows": [
        [
         "0",
         "0.2957444338993119",
         "1.14025234824911",
         "0.8387023025571341",
         "1.44851094405107",
         "1.2697629427929211",
         "1.4915603777693316",
         "-0.9882193865543484",
         "-1.0",
         "0.6618503971412621",
         "-0.9966555924993838",
         "-0.9962071926418966",
         "-1.328443311465359",
         "-0.1568274610757202",
         "1.00195190496287",
         "0.997503117202112",
         "-0.9942167228659192",
         "-0.5019133370443936",
         "0.5423916018855051",
         "-0.9865996522495636",
         "0.6122539219451254",
         "0.3602597736786851",
         "-0.8359189342653872",
         "1.2334210880048808",
         "-1.494519472483219",
         "False",
         "True",
         "False",
         "True",
         "False",
         "True",
         "False",
         "True",
         "False",
         "True",
         "True",
         "False",
         "False",
         "True",
         "False",
         "False",
         "False",
         "False",
         "0",
         "1",
         "3",
         "1",
         "1970",
         "1",
         "0.0",
         "1.0",
         "0.4338837391175582",
         "-0.900968867902419",
         "0.4999999999999999",
         "0.8660254037844387",
         "65",
         "public",
         "48",
         "public",
         null,
         "unknown",
         "well_known",
         "0",
         "0",
         "0",
         "0",
         "0",
         "0",
         "well_known",
         "0",
         "0",
         "0",
         "0",
         "0",
         "0",
         "0.4283890491453416",
         "0.2041713478743115",
         "4.897846684633659",
         "0.3755253227026169",
         "0.2329131065359908",
         "4.293446483901555",
         "0.4411206795500348",
         "0.1982785519945361",
         "5.043409634695091",
         "-0.292260383044841",
         "-0.2992700213291629",
         "-3.3414639123052936",
         "1"
        ],
        [
         "1",
         "0.3026733616730088",
         "0.0015155444570963",
         "-1.2278075165990776",
         "0.7698542299557374",
         "-0.2954527640010371",
         "0.1767797647373521",
         "-0.9882193865543484",
         "-1.0",
         "0.1932721322821896",
         "1.0033556300950752",
         "-0.9962071926418966",
         "-0.3392917879318967",
         "0.7792336717434475",
         "-0.998051897547974",
         "0.997503117202112",
         "1.005816917982842",
         "1.992375827047512",
         "0.5423916018855051",
         "-0.9865996522495636",
         "0.954266558844338",
         "-1.663143765326628",
         "-0.5479059054887216",
         "0.2539987738950575",
         "0.0021202395921066",
         "False",
         "False",
         "True",
         "False",
         "False",
         "False",
         "False",
         "True",
         "False",
         "True",
         "True",
         "False",
         "True",
         "False",
         "False",
         "False",
         "False",
         "False",
         "0",
         "1",
         "3",
         "1",
         "1970",
         "1",
         "0.0",
         "1.0",
         "0.4338837391175582",
         "-0.900968867902419",
         "0.4999999999999999",
         "0.8660254037844387",
         "20",
         "public",
         "129",
         "public",
         null,
         "unknown",
         "well_known",
         "0",
         "0",
         "0",
         "0",
         "0",
         "0",
         "well_known",
         "0",
         "0",
         "0",
         "0",
         "0",
         "0",
         "0.2330143677788885",
         "0.3931567119646063",
         "2.543514897595433",
         "-0.089425681295776",
         "-1.024439127996574",
         "-0.9761438952093464",
         "0.0535065256688179",
         "1.7121492666381164",
         "0.5840611738000361",
         "-0.2991076837988431",
         "-0.3062815492733489",
         "-3.2649696968452337",
         "1"
        ],
        [
         "2",
         "0.1634885250188726",
         "1.2329170664830027",
         "-1.64912887567187",
         "-1.6870166943652505",
         "-0.7566242201423726",
         "-1.1644406778071537",
         "1.0119210507362415",
         "-1.0",
         "-0.6076778455945241",
         "-0.9966555924993838",
         "-0.9962071926418966",
         "-1.4691843098037878",
         "-0.2959467829809311",
         "-0.998051897547974",
         "-1.0025031328271852",
         "1.005816917982842",
         "1.992375827047512",
         "0.5423916018855051",
         "-1.5866709067824505",
         "1.410283408043288",
         "-0.0733266989653105",
         "1.4681852959479378",
         "0.3692249284962132",
         "0.5010001436172152",
         "False",
         "False",
         "False",
         "False",
         "False",
         "False",
         "False",
         "True",
         "False",
         "False",
         "False",
         "False",
         "True",
         "False",
         "False",
         "False",
         "False",
         "False",
         "0",
         "1",
         "3",
         "1",
         "1970",
         "1",
         "0.0",
         "1.0",
         "0.4338837391175582",
         "-0.900968867902419",
         "0.4999999999999999",
         "0.8660254037844387",
         "7",
         "public",
         "103",
         "public",
         null,
         "unknown",
         "well_known",
         "0",
         "0",
         "0",
         "0",
         "0",
         "0",
         "well_known",
         "0",
         "0",
         "0",
         "0",
         "0",
         "0",
         "-0.275807871043989",
         "-0.0969098447774901",
         "-10.318868501516064",
         "-0.1236993777446312",
         "-0.2160762540074012",
         "-4.627995596480392",
         "-0.1903726888866678",
         "-0.140400906236597",
         "-7.122460774834972",
         "0.1654374800204159",
         "0.1615625283062332",
         "6.189553601538045",
         "1"
        ]
       ],
       "shape": {
        "columns": 87,
        "rows": 3
       }
      },
      "text/html": [
       "<div>\n",
       "<style scoped>\n",
       "    .dataframe tbody tr th:only-of-type {\n",
       "        vertical-align: middle;\n",
       "    }\n",
       "\n",
       "    .dataframe tbody tr th {\n",
       "        vertical-align: top;\n",
       "    }\n",
       "\n",
       "    .dataframe thead th {\n",
       "        text-align: right;\n",
       "    }\n",
       "</style>\n",
       "<table border=\"1\" class=\"dataframe\">\n",
       "  <thead>\n",
       "    <tr style=\"text-align: right;\">\n",
       "      <th></th>\n",
       "      <th>Timestamp</th>\n",
       "      <th>Source IP Address</th>\n",
       "      <th>Destination IP Address</th>\n",
       "      <th>Source Port</th>\n",
       "      <th>Destination Port</th>\n",
       "      <th>Packet Length</th>\n",
       "      <th>Packet Type</th>\n",
       "      <th>Malware Indicators</th>\n",
       "      <th>Anomaly Scores</th>\n",
       "      <th>Alerts/Warnings</th>\n",
       "      <th>...</th>\n",
       "      <th>Timestamp_x_Destination Port</th>\n",
       "      <th>Timestamp_div_Destination Port</th>\n",
       "      <th>Destination Port_div_Timestamp</th>\n",
       "      <th>Timestamp_x_Packet Length</th>\n",
       "      <th>Timestamp_div_Packet Length</th>\n",
       "      <th>Packet Length_div_Timestamp</th>\n",
       "      <th>Timestamp_x_Packet Type</th>\n",
       "      <th>Timestamp_div_Packet Type</th>\n",
       "      <th>Packet Type_div_Timestamp</th>\n",
       "      <th>attackSuccessful</th>\n",
       "    </tr>\n",
       "  </thead>\n",
       "  <tbody>\n",
       "    <tr>\n",
       "      <th>0</th>\n",
       "      <td>0.295744</td>\n",
       "      <td>1.140252</td>\n",
       "      <td>0.838702</td>\n",
       "      <td>1.448511</td>\n",
       "      <td>1.269763</td>\n",
       "      <td>1.491560</td>\n",
       "      <td>-0.988219</td>\n",
       "      <td>-1.0</td>\n",
       "      <td>0.661850</td>\n",
       "      <td>-0.996656</td>\n",
       "      <td>...</td>\n",
       "      <td>0.375525</td>\n",
       "      <td>0.232913</td>\n",
       "      <td>4.293446</td>\n",
       "      <td>0.441121</td>\n",
       "      <td>0.198279</td>\n",
       "      <td>5.043410</td>\n",
       "      <td>-0.292260</td>\n",
       "      <td>-0.299270</td>\n",
       "      <td>-3.341464</td>\n",
       "      <td>1</td>\n",
       "    </tr>\n",
       "    <tr>\n",
       "      <th>1</th>\n",
       "      <td>0.302673</td>\n",
       "      <td>0.001516</td>\n",
       "      <td>-1.227808</td>\n",
       "      <td>0.769854</td>\n",
       "      <td>-0.295453</td>\n",
       "      <td>0.176780</td>\n",
       "      <td>-0.988219</td>\n",
       "      <td>-1.0</td>\n",
       "      <td>0.193272</td>\n",
       "      <td>1.003356</td>\n",
       "      <td>...</td>\n",
       "      <td>-0.089426</td>\n",
       "      <td>-1.024439</td>\n",
       "      <td>-0.976144</td>\n",
       "      <td>0.053507</td>\n",
       "      <td>1.712149</td>\n",
       "      <td>0.584061</td>\n",
       "      <td>-0.299108</td>\n",
       "      <td>-0.306282</td>\n",
       "      <td>-3.264970</td>\n",
       "      <td>1</td>\n",
       "    </tr>\n",
       "    <tr>\n",
       "      <th>2</th>\n",
       "      <td>0.163489</td>\n",
       "      <td>1.232917</td>\n",
       "      <td>-1.649129</td>\n",
       "      <td>-1.687017</td>\n",
       "      <td>-0.756624</td>\n",
       "      <td>-1.164441</td>\n",
       "      <td>1.011921</td>\n",
       "      <td>-1.0</td>\n",
       "      <td>-0.607678</td>\n",
       "      <td>-0.996656</td>\n",
       "      <td>...</td>\n",
       "      <td>-0.123699</td>\n",
       "      <td>-0.216076</td>\n",
       "      <td>-4.627996</td>\n",
       "      <td>-0.190373</td>\n",
       "      <td>-0.140401</td>\n",
       "      <td>-7.122461</td>\n",
       "      <td>0.165437</td>\n",
       "      <td>0.161563</td>\n",
       "      <td>6.189554</td>\n",
       "      <td>1</td>\n",
       "    </tr>\n",
       "  </tbody>\n",
       "</table>\n",
       "<p>3 rows × 87 columns</p>\n",
       "</div>"
      ],
      "text/plain": [
       "   Timestamp  Source IP Address  Destination IP Address  Source Port  \\\n",
       "0   0.295744           1.140252                0.838702     1.448511   \n",
       "1   0.302673           0.001516               -1.227808     0.769854   \n",
       "2   0.163489           1.232917               -1.649129    -1.687017   \n",
       "\n",
       "   Destination Port  Packet Length  Packet Type  Malware Indicators  \\\n",
       "0          1.269763       1.491560    -0.988219                -1.0   \n",
       "1         -0.295453       0.176780    -0.988219                -1.0   \n",
       "2         -0.756624      -1.164441     1.011921                -1.0   \n",
       "\n",
       "   Anomaly Scores  Alerts/Warnings  ...  Timestamp_x_Destination Port  \\\n",
       "0        0.661850        -0.996656  ...                      0.375525   \n",
       "1        0.193272         1.003356  ...                     -0.089426   \n",
       "2       -0.607678        -0.996656  ...                     -0.123699   \n",
       "\n",
       "   Timestamp_div_Destination Port  Destination Port_div_Timestamp  \\\n",
       "0                        0.232913                        4.293446   \n",
       "1                       -1.024439                       -0.976144   \n",
       "2                       -0.216076                       -4.627996   \n",
       "\n",
       "   Timestamp_x_Packet Length  Timestamp_div_Packet Length  \\\n",
       "0                   0.441121                     0.198279   \n",
       "1                   0.053507                     1.712149   \n",
       "2                  -0.190373                    -0.140401   \n",
       "\n",
       "   Packet Length_div_Timestamp  Timestamp_x_Packet Type  \\\n",
       "0                     5.043410                -0.292260   \n",
       "1                     0.584061                -0.299108   \n",
       "2                    -7.122461                 0.165437   \n",
       "\n",
       "   Timestamp_div_Packet Type  Packet Type_div_Timestamp  attackSuccessful  \n",
       "0                  -0.299270                  -3.341464                 1  \n",
       "1                  -0.306282                  -3.264970                 1  \n",
       "2                   0.161563                   6.189554                 1  \n",
       "\n",
       "[3 rows x 87 columns]"
      ]
     },
     "metadata": {},
     "output_type": "display_data"
    }
   ],
   "source": [
    "def load_split(name: str) -> pd.DataFrame:\n",
    "    \"\"\"Load a processed CSV split from the Phase 3 preprocessing outputs.\"\"\"\n",
    "    path = DATA_DIR / f\"{name}_data.csv\"\n",
    "    if not path.exists():\n",
    "        raise FileNotFoundError(f\"Split '{name}' not found at {path}\")\n",
    "    return pd.read_csv(path)\n",
    "\n",
    "\n",
    "def summarize_split(df: pd.DataFrame, name: str) -> None:\n",
    "    \"\"\"Display a brief summary with shape and missingness diagnostics.\"\"\"\n",
    "    null_pct = df.isna().mean().sort_values(ascending=False)\n",
    "    head = df.head(3)\n",
    "    display(\n",
    "        Markdown(\n",
    "            f\"### {name.title()} Split\\n\"\n",
    "            f\"- Shape: {df.shape[0]:,} rows × {df.shape[1]:,} columns\\n\"\n",
    "            f\"- Missing features (>0.01%): {null_pct[null_pct > 0.0001].index.tolist()}\"\n",
    "        )\n",
    "    )\n",
    "    display(head)\n",
    "\n",
    "\n",
    "def attach_attack_success_flag(df: pd.DataFrame) -> pd.DataFrame:\n",
    "    \"\"\"Ensure an attackSuccessful column exists by deriving it from action outcomes.\"\"\"\n",
    "    if \"attackSuccessful\" in df.columns:\n",
    "        return df\n",
    "    if not {\"Action Taken_Ignored\", \"Action Taken_Logged\"}.intersection(df.columns):\n",
    "        raise KeyError(\n",
    "            \"Columns needed to derive attackSuccessful are missing from the dataframe.\"\n",
    "        )\n",
    "    df_copy = df.copy()\n",
    "    ignored_series = (\n",
    "        df_copy[\"Action Taken_Ignored\"]\n",
    "        if \"Action Taken_Ignored\" in df_copy\n",
    "        else pd.Series(0, index=df_copy.index)\n",
    "    )\n",
    "    logged_series = (\n",
    "        df_copy[\"Action Taken_Logged\"]\n",
    "        if \"Action Taken_Logged\" in df_copy\n",
    "        else pd.Series(0, index=df_copy.index)\n",
    "    )\n",
    "    df_copy[\"attackSuccessful\"] = (\n",
    "        (ignored_series.fillna(0) + logged_series.fillna(0)) > 0\n",
    "    ).astype(int)\n",
    "    return df_copy\n",
    "\n",
    "\n",
    "def derive_severity_score(df: pd.DataFrame) -> pd.Series:\n",
    "    \"\"\"Create an ordinal severity score from available one-hot encoded severity columns.\"\"\"\n",
    "    baseline = pd.Series(0.0, index=df.index)\n",
    "    low = df.get(\"Severity Level_Low\", baseline).fillna(0)\n",
    "    medium = df.get(\"Severity Level_Medium\", baseline).fillna(0)\n",
    "    residual = (1 - (low + medium)).clip(lower=0)\n",
    "    severity = medium + (residual * 2)\n",
    "    return severity.astype(float)\n",
    "\n",
    "\n",
    "train_df = attach_attack_success_flag(load_split(\"train\"))\n",
    "val_df = attach_attack_success_flag(load_split(\"val\"))\n",
    "test_df = attach_attack_success_flag(load_split(\"test\"))\n",
    "\n",
    "summarize_split(train_df, \"train\")\n",
    "summarize_split(val_df, \"validation\")\n",
    "summarize_split(test_df, \"test\")\n",
    "\n",
    "TARGET_COL = \"attackSuccessful\"\n",
    "LEAKAGE_COLS = {TARGET_COL, \"Action Taken_Ignored\", \"Action Taken_Logged\"}\n",
    "FEATURE_COLS = [col for col in train_df.columns if col not in LEAKAGE_COLS]\n",
    "SEVERITY_LEVEL_COLS = [col for col in FEATURE_COLS if col.startswith(\"Severity Level_\")]\n",
    "SEVERITY_TARGET_NAME = \"severity_score\"\n",
    "\n",
    "train_severity = derive_severity_score(train_df).rename(SEVERITY_TARGET_NAME)\n",
    "val_severity = derive_severity_score(val_df).rename(SEVERITY_TARGET_NAME)\n",
    "test_severity = derive_severity_score(test_df).rename(SEVERITY_TARGET_NAME)\n",
    "REGRESSION_FEATURE_COLS = [\n",
    "    col for col in FEATURE_COLS if col not in SEVERITY_LEVEL_COLS\n",
    "    ]\n"
   ]
  },
  {
   "cell_type": "markdown",
   "id": "3183ca13",
   "metadata": {},
   "source": [
    "## Feature Engineering & Pipelines\n",
    "The preprocessing pipeline mirrors Phase 3 encoders while allowing advanced estimators to toggle optional feature transformations. This modular design supports experimentation with imbalance handling and interaction effects."
   ]
  },
  {
   "cell_type": "code",
   "execution_count": null,
   "id": "e4e986ba",
   "metadata": {},
   "outputs": [],
   "source": [
    "def infer_feature_types(\n",
    "    df: pd.DataFrame, feature_columns: List[str]\n",
    "    ) -> Tuple[List[str], List[str]]:\n",
    "    \"\"\"Infer categorical and numeric columns from the provided feature list.\"\"\"\n",
    "    categorical_cols: List[str] = []\n",
    "    numeric_cols: List[str] = []\n",
    "    for col in feature_columns:\n",
    "        dtype = df[col].dtype\n",
    "        if is_numeric_dtype(dtype):\n",
    "            numeric_cols.append(col)\n",
    "        elif isinstance(dtype, CategoricalDtype) or is_string_dtype(dtype):\n",
    "            categorical_cols.append(col)\n",
    "        else:\n",
    "            categorical_cols.append(col)\n",
    "    return numeric_cols, categorical_cols\n",
    "\n",
    "\n",
    "def build_preprocessor(numeric_cols: List[str], categorical_cols: List[str]) -> ColumnTransformer:\n",
    "    numeric_pipe = Pipeline(\n",
    "        steps=[\n",
    "            (\"imputer\", SimpleImputer(strategy=\"median\")),\n",
    "            (\"scaler\", StandardScaler()),\n",
    "        ]\n",
    "    )\n",
    "    categorical_pipe = Pipeline(\n",
    "        steps=[\n",
    "            (\"imputer\", SimpleImputer(strategy=\"most_frequent\")),\n",
    "            (\"encoder\", OneHotEncoder(handle_unknown=\"ignore\", sparse_output=False)),\n",
    "        ]\n",
    "    )\n",
    "    return ColumnTransformer(\n",
    "        transformers=[\n",
    "            (\"num\", numeric_pipe, numeric_cols),\n",
    "            (\"cat\", categorical_pipe, categorical_cols),\n",
    "        ]\n",
    "    )\n",
    "\n",
    "\n",
    "NUMERIC_FEATURES, CATEGORICAL_FEATURES = infer_feature_types(train_df, FEATURE_COLS)\n",
    "PREPROCESSOR = build_preprocessor(NUMERIC_FEATURES, CATEGORICAL_FEATURES)\n",
    "\n",
    "REG_NUMERIC_FEATURES, REG_CATEGORICAL_FEATURES = infer_feature_types(\n",
    "    train_df, REGRESSION_FEATURE_COLS\n",
    "    )\n",
    "REG_PREPROCESSOR = build_preprocessor(REG_NUMERIC_FEATURES, REG_CATEGORICAL_FEATURES)\n",
    "\n",
    "train_X, train_y = train_df[FEATURE_COLS], train_df[TARGET_COL]\n",
    "val_X, val_y = val_df[FEATURE_COLS], val_df[TARGET_COL]\n",
    "test_X, test_y = test_df[FEATURE_COLS], test_df[TARGET_COL]\n",
    "\n",
    "train_reg_X, train_reg_y = train_df[REGRESSION_FEATURE_COLS], train_severity\n",
    "val_reg_X, val_reg_y = val_df[REGRESSION_FEATURE_COLS], val_severity\n",
    "test_reg_X, test_reg_y = test_df[REGRESSION_FEATURE_COLS], test_severity\n"
   ]
  },
  {
   "cell_type": "markdown",
   "id": "4b0564f0",
   "metadata": {},
   "source": [
    "## Experiment Utilities\n",
    "Helper functions standardize training, hyperparameter search, and evaluation output across models. Metrics are written to `models/phase4_metrics.csv` to align with the project plan."
   ]
  },
  {
   "cell_type": "code",
   "execution_count": null,
   "id": "bb9fe30a",
   "metadata": {},
   "outputs": [],
   "source": [
    "METRIC_COLUMNS: List[str] = [\"model_id\", \"target\", \"metric_name\", \"metric_value\", \"split\"]\n",
    "SUMMARY_LABELS: Dict[str, str] = {\n",
    "    \"accuracy\": \"Accuracy\",\n",
    "    \"balanced_accuracy\": \"Balanced Accuracy\",\n",
    "    \"precision\": \"Precision\",\n",
    "    \"recall\": \"Recall\",\n",
    "    \"f1\": \"F1\",\n",
    "    \"roc_auc\": \"ROC-AUC\",\n",
    "    \"rmse\": \"RMSE\",\n",
    "    \"mae\": \"MAE\",\n",
    "    \"r2\": \"R²\",\n",
    "}\n",
    "CLASSIFICATION_SUMMARY_ORDER: List[str] = [\n",
    "    \"accuracy\",\n",
    "    \"balanced_accuracy\",\n",
    "    \"precision\",\n",
    "    \"recall\",\n",
    "    \"f1\",\n",
    "    \"roc_auc\",\n",
    "    ]\n",
    "REGRESSION_SUMMARY_ORDER: List[str] = [\"rmse\", \"mae\", \"r2\"]\n",
    "\n",
    "\n",
    "def ensure_metrics_store() -> pd.DataFrame:\n",
    "    \"\"\"Load the metrics store, migrating legacy wide-format files when needed.\"\"\"\n",
    "    if not ARTIFACT_METRICS.exists():\n",
    "        return pd.DataFrame(columns=METRIC_COLUMNS)\n",
    "    store = pd.read_csv(ARTIFACT_METRICS)\n",
    "    if set(METRIC_COLUMNS).issubset(store.columns):\n",
    "        return store\n",
    "    if \"model\" not in store.columns:\n",
    "        return pd.DataFrame(columns=METRIC_COLUMNS)\n",
    "    records: List[Dict[str, object]] = []\n",
    "    legacy_columns = [col for col in store.columns if col != \"model\"]\n",
    "    for _, row in store.iterrows():\n",
    "        model_name = row[\"model\"]\n",
    "        for col in legacy_columns:\n",
    "            value = row[col]\n",
    "            if pd.isna(value) or \"_\" not in col:\n",
    "                continue\n",
    "            split, metric_name = col.split(\"_\", 1)\n",
    "            records.append(\n",
    "                {\n",
    "                    \"model_id\": model_name,\n",
    "                    \"target\": \"attack_success\",\n",
    "                    \"metric_name\": metric_name,\n",
    "                    \"metric_value\": float(value),\n",
    "                    \"split\": split,\n",
    "                }\n",
    "            )\n",
    "    long_store = pd.DataFrame(records, columns=METRIC_COLUMNS)\n",
    "    long_store.to_csv(ARTIFACT_METRICS, index=False)\n",
    "    return long_store\n",
    "\n",
    "\n",
    "def log_metrics(\n",
    "    model_name: str, target_name: str, metrics: Dict[str, Dict[str, float]]\n",
    "    ) -> None:\n",
    "    \"\"\"Append metrics for a model/target pair to the metrics store.\"\"\"\n",
    "    store = ensure_metrics_store()\n",
    "    rows: List[Dict[str, object]] = []\n",
    "    for split, split_metrics in metrics.items():\n",
    "        for metric_name, metric_value in split_metrics.items():\n",
    "            rows.append(\n",
    "                {\n",
    "                    \"model_id\": model_name,\n",
    "                    \"target\": target_name,\n",
    "                    \"metric_name\": metric_name,\n",
    "                    \"metric_value\": float(metric_value),\n",
    "                    \"split\": split,\n",
    "                }\n",
    "            )\n",
    "    updated_store = pd.concat([store, pd.DataFrame(rows)], ignore_index=True)\n",
    "    updated_store.to_csv(ARTIFACT_METRICS, index=False)\n",
    "\n",
    "\n",
    "def evaluate_classifier(\n",
    "    model_pipeline: Pipeline,\n",
    "    model_name: str,\n",
    "    train_X: pd.DataFrame,\n",
    "    train_y: pd.Series,\n",
    "    val_X: pd.DataFrame,\n",
    "    val_y: pd.Series,\n",
    "    test_X: pd.DataFrame,\n",
    "    test_y: pd.Series,\n",
    "    target_name: str,\n",
    "    k_folds: int = 5,\n",
    "    ) -> Dict[str, Dict[str, float]]:\n",
    "    \"\"\"Train, evaluate, and log metrics for a classification pipeline.\"\"\"\n",
    "    scoring = {\n",
    "        \"accuracy\": \"accuracy\",\n",
    "        \"precision\": \"precision\",\n",
    "        \"recall\": \"recall\",\n",
    "        \"f1\": \"f1\",\n",
    "        \"roc_auc\": \"roc_auc\",\n",
    "        \"balanced_accuracy\": \"balanced_accuracy\",\n",
    "    }\n",
    "    cv = StratifiedKFold(n_splits=k_folds, shuffle=True, random_state=RANDOM_STATE)\n",
    "    cv_results = cross_validate(\n",
    "        model_pipeline,\n",
    "        train_X,\n",
    "        train_y,\n",
    "        cv=cv,\n",
    "        scoring=scoring,\n",
    "        n_jobs=-1,\n",
    "        return_train_score=False,\n",
    "    )\n",
    "    cv_summary = {\n",
    "        metric: np.mean(cv_results[f\"test_{metric}\"]) for metric in scoring\n",
    "    }\n",
    "    combined_X = pd.concat([train_X, val_X])\n",
    "    combined_y = pd.concat([train_y, val_y])\n",
    "    model_pipeline.fit(combined_X, combined_y)\n",
    "    val_pred = model_pipeline.predict(val_X)\n",
    "    test_pred = model_pipeline.predict(test_X)\n",
    "    if hasattr(model_pipeline, \"predict_proba\"):\n",
    "        val_scores = model_pipeline.predict_proba(val_X)[:, 1]\n",
    "        test_scores = model_pipeline.predict_proba(test_X)[:, 1]\n",
    "    else:\n",
    "        val_scores = model_pipeline.decision_function(val_X)\n",
    "        test_scores = model_pipeline.decision_function(test_X)\n",
    "    val_precision, val_recall, val_f1, _ = precision_recall_fscore_support(\n",
    "        val_y, val_pred, average=\"binary\", zero_division=0\n",
    "    )\n",
    "    test_precision, test_recall, test_f1, _ = precision_recall_fscore_support(\n",
    "        test_y, test_pred, average=\"binary\", zero_division=0\n",
    "    )\n",
    "    metrics = {\n",
    "        \"cv\": cv_summary,\n",
    "        \"validation\": {\n",
    "            \"accuracy\": accuracy_score(val_y, val_pred),\n",
    "            \"balanced_accuracy\": balanced_accuracy_score(val_y, val_pred),\n",
    "            \"precision\": val_precision,\n",
    "            \"recall\": val_recall,\n",
    "            \"f1\": val_f1,\n",
    "            \"roc_auc\": roc_auc_score(val_y, val_scores),\n",
    "        },\n",
    "        \"test\": {\n",
    "            \"accuracy\": accuracy_score(test_y, test_pred),\n",
    "            \"balanced_accuracy\": balanced_accuracy_score(test_y, test_pred),\n",
    "            \"precision\": test_precision,\n",
    "            \"recall\": test_recall,\n",
    "            \"f1\": test_f1,\n",
    "            \"roc_auc\": roc_auc_score(test_y, test_scores),\n",
    "        },\n",
    "    }\n",
    "    log_metrics(model_name, target_name, metrics)\n",
    "    report_text = classification_report(val_y, val_pred, digits=4)\n",
    "    display(Markdown(f\"### {model_name}\"))\n",
    "    display(Markdown(f\"```\\n{report_text}\\n```\"))\n",
    "    return metrics\n",
    "\n",
    "\n",
    "def evaluate_regressor(\n",
    "    model_pipeline: Pipeline,\n",
    "    model_name: str,\n",
    "    train_X: pd.DataFrame,\n",
    "    train_y: pd.Series,\n",
    "    val_X: pd.DataFrame,\n",
    "    val_y: pd.Series,\n",
    "    test_X: pd.DataFrame,\n",
    "    test_y: pd.Series,\n",
    "    target_name: str,\n",
    "    k_folds: int = 5,\n",
    "    ) -> Dict[str, Dict[str, float]]:\n",
    "    \"\"\"Train, evaluate, and log metrics for a regression pipeline.\"\"\"\n",
    "    scoring = {\n",
    "        \"neg_root_mean_squared_error\": \"neg_root_mean_squared_error\",\n",
    "        \"neg_mean_absolute_error\": \"neg_mean_absolute_error\",\n",
    "        \"r2\": \"r2\",\n",
    "    }\n",
    "    cv = KFold(n_splits=k_folds, shuffle=True, random_state=RANDOM_STATE)\n",
    "    cv_results = cross_validate(\n",
    "        model_pipeline,\n",
    "        train_X,\n",
    "        train_y,\n",
    "        cv=cv,\n",
    "        scoring=scoring,\n",
    "        n_jobs=-1,\n",
    "        return_train_score=False,\n",
    "    )\n",
    "    cv_summary = {\n",
    "        \"rmse\": -np.mean(cv_results[\"test_neg_root_mean_squared_error\"]),\n",
    "        \"mae\": -np.mean(cv_results[\"test_neg_mean_absolute_error\"]),\n",
    "        \"r2\": np.mean(cv_results[\"test_r2\"]),\n",
    "    }\n",
    "    combined_X = pd.concat([train_X, val_X])\n",
    "    combined_y = pd.concat([train_y, val_y])\n",
    "    model_pipeline.fit(combined_X, combined_y)\n",
    "    val_pred = model_pipeline.predict(val_X)\n",
    "    test_pred = model_pipeline.predict(test_X)\n",
    "    metrics = {\n",
    "        \"cv\": cv_summary,\n",
    "        \"validation\": {\n",
    "            \"rmse\": mean_squared_error(val_y, val_pred, squared=False),\n",
    "            \"mae\": mean_absolute_error(val_y, val_pred),\n",
    "            \"r2\": r2_score(val_y, val_pred),\n",
    "        },\n",
    "        \"test\": {\n",
    "            \"rmse\": mean_squared_error(test_y, test_pred, squared=False),\n",
    "            \"mae\": mean_absolute_error(test_y, test_pred),\n",
    "            \"r2\": r2_score(test_y, test_pred),\n",
    "        },\n",
    "    }\n",
    "    log_metrics(model_name, target_name, metrics)\n",
    "    display(Markdown(f\"### {model_name} (Severity Regression)\"))\n",
    "    validation_line = (\n",
    "        f\"Validation RMSE: {metrics['validation']['rmse']:.4f}, \"\n",
    "        f\"MAE: {metrics['validation']['mae']:.4f}, \"\n",
    "        f\"R²: {metrics['validation']['r2']:.4f}\"\n",
    "    )\n",
    "    test_line = (\n",
    "        f\"Test RMSE: {metrics['test']['rmse']:.4f}, \"\n",
    "        f\"MAE: {metrics['test']['mae']:.4f}, \"\n",
    "        f\"R²: {metrics['test']['r2']:.4f}\"\n",
    "    )\n",
    "    display(\n",
    "        Markdown(\n",
    "            \"\\n\".join(\n",
    "                [f\"- {validation_line}\", f\"- {test_line}\"]\n",
    "            )\n",
    "        )\n",
    "    )\n",
    "    return metrics\n",
    "\n",
    "\n",
    "def export_feature_importances(\n",
    "    model_pipeline: Pipeline, model_name: str, target_name: str\n",
    "    ) -> None:\n",
    "    \"\"\"Persist feature importances or coefficients for downstream explainability.\"\"\"\n",
    "    preprocessor = model_pipeline.named_steps.get(\"preprocessor\")\n",
    "    if preprocessor is None or not hasattr(preprocessor, \"get_feature_names_out\"):\n",
    "        return\n",
    "    feature_names = preprocessor.get_feature_names_out()\n",
    "    estimator = model_pipeline.named_steps.get(\"model\")\n",
    "    if estimator is None:\n",
    "        return\n",
    "    if hasattr(estimator, \"feature_importances_\"):\n",
    "        importances = estimator.feature_importances_\n",
    "    elif hasattr(estimator, \"coef_\"):\n",
    "        importances = np.ravel(estimator.coef_)\n",
    "    else:\n",
    "        return\n",
    "    importance_df = pd.DataFrame(\n",
    "        {\n",
    "            \"model_id\": model_name,\n",
    "            \"target\": target_name,\n",
    "            \"feature\": feature_names,\n",
    "            \"importance\": importances,\n",
    "        }\n",
    "    )\n",
    "    importance_df[\"abs_importance\"] = importance_df[\"importance\"].abs()\n",
    "    importance_df = importance_df.sort_values(\"abs_importance\", ascending=False)\n",
    "    importance_df = importance_df.drop(columns=\"abs_importance\")\n",
    "    file_stub = f\"{model_name.lower().replace(' ', '_')}_{target_name}\"\n",
    "    export_path = ARTIFACT_IMPORTANCES / f\"{file_stub}.csv\"\n",
    "    importance_df.to_csv(export_path, index=False)\n"
   ]
  },
  {
   "cell_type": "code",
   "execution_count": 11,
   "id": "02b0b732",
   "metadata": {},
   "outputs": [],
   "source": [
    "def plot_diagnostics(model, X: pd.DataFrame, y: pd.Series, model_name: str, suffix: str) -> None:\n",
    "    fig, axes = plt.subplots(1, 3, figsize=(18, 5))\n",
    "\n",
    "    ConfusionMatrixDisplay.from_estimator(model, X, y, ax=axes[0], colorbar=False)\n",
    "    axes[0].set_title(f\"{model_name} Confusion Matrix ({suffix})\")\n",
    "\n",
    "    RocCurveDisplay.from_estimator(model, X, y, ax=axes[1])\n",
    "    axes[1].set_title(f\"{model_name} ROC Curve ({suffix})\")\n",
    "\n",
    "    PrecisionRecallDisplay.from_estimator(model, X, y, ax=axes[2])\n",
    "    axes[2].set_title(f\"{model_name} Precision-Recall ({suffix})\")\n",
    "\n",
    "    plt.tight_layout()\n",
    "    figure_path = ARTIFACT_FIGURES / f\"{model_name.lower().replace(' ', '_')}_{suffix}.png\"\n",
    "    fig.savefig(figure_path, dpi=200)\n",
    "    plt.close(fig)\n"
   ]
  },
  {
   "cell_type": "code",
   "execution_count": null,
   "id": "076f4c56",
   "metadata": {},
   "outputs": [],
   "source": [
    "def append_summary_entry(model_name: str, metrics: Dict[str, Dict[str, float]]) -> None:\n",
    "    \"\"\"Append a concise markdown summary for the supplied metrics.\"\"\"\n",
    "    lines = [f\"## {model_name}\\n\"]\n",
    "    validation_metrics = metrics.get(\"validation\", {})\n",
    "    is_classification = \"accuracy\" in validation_metrics\n",
    "    metric_order = (\n",
    "        CLASSIFICATION_SUMMARY_ORDER if is_classification else REGRESSION_SUMMARY_ORDER\n",
    "    )\n",
    "    split_labels = {\n",
    "        \"validation\": \"Validation\",\n",
    "        \"test\": \"Test\",\n",
    "        \"cv\": \"Cross-Validation\",\n",
    "    }\n",
    "    for split in (\"validation\", \"test\", \"cv\"):\n",
    "        if split not in metrics:\n",
    "            continue\n",
    "        split_metrics = metrics[split]\n",
    "        formatted = [\n",
    "            f\"{SUMMARY_LABELS[name]}: {split_metrics[name]:.4f}\"\n",
    "            for name in metric_order\n",
    "            if name in split_metrics\n",
    "        ]\n",
    "        if not formatted:\n",
    "            continue\n",
    "        lines.append(f\"- {split_labels[split]}: {', '.join(formatted)}\\n\")\n",
    "    with open(ARTIFACT_SUMMARY, \"a\", encoding=\"utf-8\") as handle:\n",
    "        handle.writelines(lines + [\"\\n\"])\n"
   ]
  },
  {
   "cell_type": "markdown",
   "id": "4558556b",
   "metadata": {},
   "source": [
    "## Model Experiments"
   ]
  },
  {
   "cell_type": "markdown",
   "id": "ead301e5",
   "metadata": {},
   "source": [
    "### Balanced Logistic Regression\n",
    "Revisits the linear baseline with tuned regularization and class weighting to establish a strong probabilistic reference."
   ]
  },
  {
   "cell_type": "code",
   "execution_count": null,
   "id": "1eae5115",
   "metadata": {},
   "outputs": [
    {
     "name": "stderr",
     "output_type": "stream",
     "text": [
      "C:\\Users\\dave\\AppData\\Local\\Temp\\ipykernel_21852\\982718967.py:28: FutureWarning: The behavior of DataFrame concatenation with empty or all-NA entries is deprecated. In a future version, this will no longer exclude empty or all-NA columns when determining the result dtypes. To retain the old behavior, exclude the relevant entries before the concat operation.\n",
      "  store = pd.concat([store, pd.DataFrame([row])], ignore_index=True)\n"
     ]
    },
    {
     "data": {
      "text/markdown": [
       "### Balanced Logistic Regression"
      ],
      "text/plain": [
       "<IPython.core.display.Markdown object>"
      ]
     },
     "metadata": {},
     "output_type": "display_data"
    },
    {
     "data": {
      "text/markdown": [
       "              precision    recall  f1-score   support\n",
       "\n",
       "           0       0.36      0.52      0.42      2701\n",
       "           1       0.68      0.52      0.59      5299\n",
       "\n",
       "    accuracy                           0.52      8000\n",
       "   macro avg       0.52      0.52      0.51      8000\n",
       "weighted avg       0.57      0.52      0.53      8000\n"
      ],
      "text/plain": [
       "<IPython.core.display.Markdown object>"
      ]
     },
     "metadata": {},
     "output_type": "display_data"
    }
   ],
   "source": [
    "logit_params = {\n",
    "    \"model__C\": np.logspace(-3, 1, 8),\n",
    "    \"model__penalty\": [\"l2\"],\n",
    "    \"model__solver\": [\"lbfgs\"],\n",
    "}\n",
    "\n",
    "logit_pipeline = Pipeline(\n",
    "    steps=[\n",
    "        (\"preprocessor\", PREPROCESSOR),\n",
    "        (\n",
    "            \"model\",\n",
    "            LogisticRegression(\n",
    "                class_weight=\"balanced\",\n",
    "                max_iter=200,\n",
    "                random_state=RANDOM_STATE,\n",
    "            ),\n",
    "        ),\n",
    "    ]\n",
    ")\n",
    "\n",
    "logit_search = RandomizedSearchCV(\n",
    "    estimator=logit_pipeline,\n",
    "    param_distributions=logit_params,\n",
    "    n_iter=10,\n",
    "    scoring=\"roc_auc\",\n",
    "    cv=StratifiedKFold(n_splits=5, shuffle=True, random_state=RANDOM_STATE),\n",
    "    n_jobs=-1,\n",
    "    random_state=RANDOM_STATE,\n",
    "    refit=True,\n",
    "    )\n",
    "\n",
    "logit_search.fit(train_X, train_y)\n",
    "logit_best = logit_search.best_estimator_\n",
    "logit_metrics = evaluate_classifier(\n",
    "    logit_best,\n",
    "    \"Balanced Logistic Regression\",\n",
    "    train_X,\n",
    "    train_y,\n",
    "    val_X,\n",
    "    val_y,\n",
    "    test_X,\n",
    "    test_y,\n",
    "    target_name=\"attack_success\",\n",
    ")\n",
    "plot_diagnostics(logit_best, val_X, val_y, \"Balanced Logistic Regression\", \"validation\")\n",
    "plot_diagnostics(logit_best, test_X, test_y, \"Balanced Logistic Regression\", \"test\")\n",
    "append_summary_entry(\"Balanced Logistic Regression\", logit_metrics)\n"
   ]
  },
  {
   "cell_type": "markdown",
   "id": "e7d56779",
   "metadata": {},
   "source": [
    "### Decision Tree Classifier\n",
    "Establishes a single-tree baseline to inspect splitting patterns and feature importances before moving to ensemble variants."
   ]
  },
  {
   "cell_type": "code",
   "execution_count": null,
   "id": "dca87c2a",
   "metadata": {},
   "outputs": [],
   "source": [
    "dt_params = {\n",
    "    \"model__criterion\": [\"gini\", \"entropy\"],\n",
    "    \"model__max_depth\": [None, 5, 10, 20],\n",
    "    \"model__min_samples_split\": [2, 5, 10],\n",
    "    \"model__min_samples_leaf\": [1, 2, 4],\n",
    "}\n",
    "\n",
    "dt_pipeline = Pipeline(\n",
    "    steps=[\n",
    "        (\"preprocessor\", PREPROCESSOR),\n",
    "        (\n",
    "            \"model\",\n",
    "            DecisionTreeClassifier(\n",
    "                class_weight=\"balanced\",\n",
    "                random_state=RANDOM_STATE,\n",
    "            ),\n",
    "        ),\n",
    "    ]\n",
    ")\n",
    "\n",
    "dt_grid = GridSearchCV(\n",
    "    estimator=dt_pipeline,\n",
    "    param_grid=dt_params,\n",
    "    scoring=\"roc_auc\",\n",
    "    cv=StratifiedKFold(n_splits=5, shuffle=True, random_state=RANDOM_STATE),\n",
    "    n_jobs=-1,\n",
    "    refit=True,\n",
    "    )\n",
    "\n",
    "dt_grid.fit(train_X, train_y)\n",
    "dt_best = dt_grid.best_estimator_\n",
    "dt_metrics = evaluate_classifier(\n",
    "    dt_best,\n",
    "    \"Decision Tree Classifier\",\n",
    "    train_X,\n",
    "    train_y,\n",
    "    val_X,\n",
    "    val_y,\n",
    "    test_X,\n",
    "    test_y,\n",
    "    target_name=\"attack_success\",\n",
    ")\n",
    "plot_diagnostics(dt_best, val_X, val_y, \"Decision Tree Classifier\", \"validation\")\n",
    "plot_diagnostics(dt_best, test_X, test_y, \"Decision Tree Classifier\", \"test\")\n",
    "export_feature_importances(dt_best, \"Decision Tree Classifier\", \"attack_success\")\n",
    "append_summary_entry(\"Decision Tree Classifier\", dt_metrics)\n"
   ]
  },
  {
   "cell_type": "markdown",
   "id": "927d563a",
   "metadata": {},
   "source": [
    "### Random Forest Ensemble\n",
    "Targets non-linear interactions and feature importance analysis via tree-based ensembles."
   ]
  },
  {
   "cell_type": "code",
   "execution_count": null,
   "id": "d7fc4325",
   "metadata": {},
   "outputs": [
    {
     "data": {
      "text/markdown": [
       "### Random Forest Ensemble"
      ],
      "text/plain": [
       "<IPython.core.display.Markdown object>"
      ]
     },
     "metadata": {},
     "output_type": "display_data"
    },
    {
     "data": {
      "text/markdown": [
       "              precision    recall  f1-score   support\n",
       "\n",
       "           0       1.00      1.00      1.00      2701\n",
       "           1       1.00      1.00      1.00      5299\n",
       "\n",
       "    accuracy                           1.00      8000\n",
       "   macro avg       1.00      1.00      1.00      8000\n",
       "weighted avg       1.00      1.00      1.00      8000\n"
      ],
      "text/plain": [
       "<IPython.core.display.Markdown object>"
      ]
     },
     "metadata": {},
     "output_type": "display_data"
    }
   ],
   "source": [
    "rf_params = {\n",
    "    \"model__n_estimators\": [200, 400, 600],\n",
    "    \"model__max_depth\": [None, 10, 20, 30],\n",
    "    \"model__min_samples_split\": [2, 5, 10],\n",
    "    \"model__min_samples_leaf\": [1, 2, 4],\n",
    "    \"model__max_features\": [\"sqrt\", \"log2\", 0.5],\n",
    "}\n",
    "\n",
    "rf_pipeline = Pipeline(\n",
    "    steps=[\n",
    "        (\"preprocessor\", PREPROCESSOR),\n",
    "        (\n",
    "            \"model\",\n",
    "            RandomForestClassifier(\n",
    "                class_weight=\"balanced_subsample\",\n",
    "                random_state=RANDOM_STATE,\n",
    "                n_jobs=-1,\n",
    "            ),\n",
    "        ),\n",
    "    ]\n",
    ")\n",
    "\n",
    "rf_search = RandomizedSearchCV(\n",
    "    estimator=rf_pipeline,\n",
    "    param_distributions=rf_params,\n",
    "    n_iter=20,\n",
    "    scoring=\"roc_auc\",\n",
    "    cv=StratifiedKFold(n_splits=5, shuffle=True, random_state=RANDOM_STATE),\n",
    "    n_jobs=-1,\n",
    "    random_state=RANDOM_STATE,\n",
    "    refit=True,\n",
    "    )\n",
    "\n",
    "rf_search.fit(train_X, train_y)\n",
    "rf_best = rf_search.best_estimator_\n",
    "rf_metrics = evaluate_classifier(\n",
    "    rf_best,\n",
    "    \"Random Forest Ensemble\",\n",
    "    train_X,\n",
    "    train_y,\n",
    "    val_X,\n",
    "    val_y,\n",
    "    test_X,\n",
    "    test_y,\n",
    "    target_name=\"attack_success\",\n",
    ")\n",
    "plot_diagnostics(rf_best, val_X, val_y, \"Random Forest Ensemble\", \"validation\")\n",
    "plot_diagnostics(rf_best, test_X, test_y, \"Random Forest Ensemble\", \"test\")\n",
    "export_feature_importances(rf_best, \"Random Forest Ensemble\", \"attack_success\")\n",
    "append_summary_entry(\"Random Forest Ensemble\", rf_metrics)\n"
   ]
  },
  {
   "cell_type": "markdown",
   "id": "dac7c560",
   "metadata": {},
   "source": [
    "### Gradient Boosting\n",
    "Leverages stage-wise additive modeling to optimize for ROC-AUC with shrinkage and depth control."
   ]
  },
  {
   "cell_type": "code",
   "execution_count": null,
   "id": "84d40d91",
   "metadata": {},
   "outputs": [
    {
     "data": {
      "text/markdown": [
       "### Gradient Boosting"
      ],
      "text/plain": [
       "<IPython.core.display.Markdown object>"
      ]
     },
     "metadata": {},
     "output_type": "display_data"
    },
    {
     "data": {
      "text/markdown": [
       "              precision    recall  f1-score   support\n",
       "\n",
       "           0       0.89      0.01      0.03      2701\n",
       "           1       0.67      1.00      0.80      5299\n",
       "\n",
       "    accuracy                           0.67      8000\n",
       "   macro avg       0.78      0.51      0.41      8000\n",
       "weighted avg       0.74      0.67      0.54      8000\n"
      ],
      "text/plain": [
       "<IPython.core.display.Markdown object>"
      ]
     },
     "metadata": {},
     "output_type": "display_data"
    }
   ],
   "source": [
    "gb_params = {\n",
    "    \"model__n_estimators\": [200, 400, 600],\n",
    "    \"model__learning_rate\": [0.01, 0.05, 0.1],\n",
    "    \"model__max_depth\": [2, 3, 4],\n",
    "    \"model__subsample\": [0.7, 0.85, 1.0],\n",
    "    \"model__min_samples_split\": [2, 4, 6],\n",
    "}\n",
    "\n",
    "gb_pipeline = Pipeline(\n",
    "    steps=[\n",
    "        (\"preprocessor\", PREPROCESSOR),\n",
    "        (\n",
    "            \"model\",\n",
    "            GradientBoostingClassifier(random_state=RANDOM_STATE),\n",
    "        ),\n",
    "    ]\n",
    ")\n",
    "\n",
    "gb_search = RandomizedSearchCV(\n",
    "    estimator=gb_pipeline,\n",
    "    param_distributions=gb_params,\n",
    "    n_iter=20,\n",
    "    scoring=\"roc_auc\",\n",
    "    cv=StratifiedKFold(n_splits=5, shuffle=True, random_state=RANDOM_STATE),\n",
    "    n_jobs=-1,\n",
    "    random_state=RANDOM_STATE,\n",
    "    refit=True,\n",
    "    )\n",
    "\n",
    "gb_search.fit(train_X, train_y)\n",
    "gb_best = gb_search.best_estimator_\n",
    "gb_metrics = evaluate_classifier(\n",
    "    gb_best,\n",
    "    \"Gradient Boosting\",\n",
    "    train_X,\n",
    "    train_y,\n",
    "    val_X,\n",
    "    val_y,\n",
    "    test_X,\n",
    "    test_y,\n",
    "    target_name=\"attack_success\",\n",
    ")\n",
    "plot_diagnostics(gb_best, val_X, val_y, \"Gradient Boosting\", \"validation\")\n",
    "plot_diagnostics(gb_best, test_X, test_y, \"Gradient Boosting\", \"test\")\n",
    "export_feature_importances(gb_best, \"Gradient Boosting\", \"attack_success\")\n",
    "append_summary_entry(\"Gradient Boosting\", gb_metrics)\n"
   ]
  },
  {
   "cell_type": "markdown",
   "id": "7b21d83c",
   "metadata": {},
   "source": [
    "### XGBoost Gradient Boosted Trees\n",
    "Explores gradient-boosting with second-order optimization and regularization controls."
   ]
  },
  {
   "cell_type": "code",
   "execution_count": null,
   "id": "633d429f",
   "metadata": {},
   "outputs": [
    {
     "data": {
      "text/markdown": [
       "### XGBoost Gradient Boosted Trees"
      ],
      "text/plain": [
       "<IPython.core.display.Markdown object>"
      ]
     },
     "metadata": {},
     "output_type": "display_data"
    },
    {
     "data": {
      "text/markdown": [
       "              precision    recall  f1-score   support\n",
       "\n",
       "           0       0.00      0.00      0.00      2701\n",
       "           1       0.66      1.00      0.80      5299\n",
       "\n",
       "    accuracy                           0.66      8000\n",
       "   macro avg       0.33      0.50      0.40      8000\n",
       "weighted avg       0.44      0.66      0.53      8000\n"
      ],
      "text/plain": [
       "<IPython.core.display.Markdown object>"
      ]
     },
     "metadata": {},
     "output_type": "display_data"
    }
   ],
   "source": [
    "xgb_params = {\n",
    "    \"model__n_estimators\": [200, 400, 600],\n",
    "    \"model__max_depth\": [3, 4, 5],\n",
    "    \"model__learning_rate\": [0.01, 0.05, 0.1],\n",
    "    \"model__subsample\": [0.6, 0.8, 1.0],\n",
    "    \"model__colsample_bytree\": [0.6, 0.8, 1.0],\n",
    "    \"model__reg_alpha\": [0.0, 0.1, 0.5],\n",
    "    \"model__reg_lambda\": [0.5, 1.0, 2.0],\n",
    "    \"model__gamma\": [0, 0.1, 0.3],\n",
    "}\n",
    "\n",
    "xgb_pipeline = Pipeline(\n",
    "    steps=[\n",
    "        (\"preprocessor\", PREPROCESSOR),\n",
    "        (\n",
    "            \"model\",\n",
    "            XGBClassifier(\n",
    "                objective=\"binary:logistic\",\n",
    "                eval_metric=\"logloss\",\n",
    "                random_state=RANDOM_STATE,\n",
    "                tree_method=\"hist\",\n",
    "                scale_pos_weight=None,\n",
    "                n_jobs=-1,\n",
    "            ),\n",
    "        ),\n",
    "    ]\n",
    ")\n",
    "\n",
    "xgb_search = RandomizedSearchCV(\n",
    "    estimator=xgb_pipeline,\n",
    "    param_distributions=xgb_params,\n",
    "    n_iter=25,\n",
    "    scoring=\"roc_auc\",\n",
    "    cv=StratifiedKFold(n_splits=5, shuffle=True, random_state=RANDOM_STATE),\n",
    "    n_jobs=-1,\n",
    "    random_state=RANDOM_STATE,\n",
    "    refit=True,\n",
    "    )\n",
    "\n",
    "xgb_search.fit(train_X, train_y)\n",
    "xgb_best = xgb_search.best_estimator_\n",
    "xgb_metrics = evaluate_classifier(\n",
    "    xgb_best,\n",
    "    \"XGBoost Gradient Boosted Trees\",\n",
    "    train_X,\n",
    "    train_y,\n",
    "    val_X,\n",
    "    val_y,\n",
    "    test_X,\n",
    "    test_y,\n",
    "    target_name=\"attack_success\",\n",
    ")\n",
    "plot_diagnostics(\n",
    "    xgb_best,\n",
    "    val_X,\n",
    "    val_y,\n",
    "    \"XGBoost Gradient Boosted Trees\",\n",
    "    \"validation\",\n",
    ")\n",
    "plot_diagnostics(\n",
    "    xgb_best,\n",
    "    test_X,\n",
    "    test_y,\n",
    "    \"XGBoost Gradient Boosted Trees\",\n",
    "    \"test\",\n",
    ")\n",
    "export_feature_importances(\n",
    "    xgb_best, \"XGBoost Gradient Boosted Trees\", \"attack_success\"\n",
    "    )\n",
    "append_summary_entry(\"XGBoost Gradient Boosted Trees\", xgb_metrics)\n"
   ]
  },
  {
   "cell_type": "markdown",
   "id": "58f55dd0",
   "metadata": {},
   "source": [
    "### Support Vector Machine (Linear)\n",
    "Complements the RBF kernel variant by benchmarking a linear decision boundary with class weighting. Grid search tunes the soft margin parameter to balance bias and variance."
   ]
  },
  {
   "cell_type": "code",
   "execution_count": null,
   "id": "21948e10",
   "metadata": {},
   "outputs": [],
   "source": [
    "svm_linear_params = {\n",
    "    \"model__C\": np.logspace(-3, 2, 6),\n",
    "}\n",
    "\n",
    "svm_linear_pipeline = Pipeline(\n",
    "    steps=[\n",
    "        (\"preprocessor\", PREPROCESSOR),\n",
    "        (\n",
    "            \"model\",\n",
    "            SVC(\n",
    "                kernel=\"linear\",\n",
    "                probability=True,\n",
    "                class_weight=\"balanced\",\n",
    "                random_state=RANDOM_STATE,\n",
    "            ),\n",
    "        ),\n",
    "    ]\n",
    ")\n",
    "\n",
    "svm_linear_grid = GridSearchCV(\n",
    "    estimator=svm_linear_pipeline,\n",
    "    param_grid=svm_linear_params,\n",
    "    scoring=\"roc_auc\",\n",
    "    cv=StratifiedKFold(n_splits=5, shuffle=True, random_state=RANDOM_STATE),\n",
    "    n_jobs=-1,\n",
    "    refit=True,\n",
    "    )\n",
    "\n",
    "svm_linear_grid.fit(train_X, train_y)\n",
    "svm_linear_best = svm_linear_grid.best_estimator_\n",
    "svm_linear_metrics = evaluate_classifier(\n",
    "    svm_linear_best,\n",
    "    \"Support Vector Machine (Linear)\",\n",
    "    train_X,\n",
    "    train_y,\n",
    "    val_X,\n",
    "    val_y,\n",
    "    test_X,\n",
    "    test_y,\n",
    "    target_name=\"attack_success\",\n",
    ")\n",
    "plot_diagnostics(\n",
    "    svm_linear_best, val_X, val_y, \"Support Vector Machine (Linear)\", \"validation\"\n",
    ")\n",
    "plot_diagnostics(\n",
    "    svm_linear_best, test_X, test_y, \"Support Vector Machine (Linear)\", \"test\"\n",
    ")\n",
    "export_feature_importances(\n",
    "    svm_linear_best, \"Support Vector Machine (Linear)\", \"attack_success\"\n",
    ")\n",
    "append_summary_entry(\"Support Vector Machine (Linear)\", svm_linear_metrics)\n"
   ]
  },
  {
   "cell_type": "markdown",
   "id": "269cd007",
   "metadata": {},
   "source": [
    "### Support Vector Machine (RBF)\n",
    "Captures complex decision boundaries through kernel methods with probabilistic calibration."
   ]
  },
  {
   "cell_type": "code",
   "execution_count": null,
   "id": "76addf8b",
   "metadata": {},
   "outputs": [
    {
     "data": {
      "text/markdown": [
       "### Support Vector Machine (RBF)"
      ],
      "text/plain": [
       "<IPython.core.display.Markdown object>"
      ]
     },
     "metadata": {},
     "output_type": "display_data"
    },
    {
     "data": {
      "text/markdown": [
       "              precision    recall  f1-score   support\n",
       "\n",
       "           0       0.34      1.00      0.50      2701\n",
       "           1       0.00      0.00      0.00      5299\n",
       "\n",
       "    accuracy                           0.34      8000\n",
       "   macro avg       0.17      0.50      0.25      8000\n",
       "weighted avg       0.11      0.34      0.17      8000\n"
      ],
      "text/plain": [
       "<IPython.core.display.Markdown object>"
      ]
     },
     "metadata": {},
     "output_type": "display_data"
    }
   ],
   "source": [
    "svm_rbf_params = {\n",
    "    \"model__C\": np.logspace(-2, 2, 5),\n",
    "    \"model__gamma\": np.logspace(-3, 1, 5),\n",
    "}\n",
    "\n",
    "svm_rbf_pipeline = Pipeline(\n",
    "    steps=[\n",
    "        (\"preprocessor\", PREPROCESSOR),\n",
    "        (\n",
    "            \"model\",\n",
    "            SVC(\n",
    "                kernel=\"rbf\",\n",
    "                probability=True,\n",
    "                class_weight=\"balanced\",\n",
    "                random_state=RANDOM_STATE,\n",
    "            ),\n",
    "        ),\n",
    "    ]\n",
    ")\n",
    "\n",
    "svm_rbf_grid = GridSearchCV(\n",
    "    estimator=svm_rbf_pipeline,\n",
    "    param_grid=svm_rbf_params,\n",
    "    scoring=\"roc_auc\",\n",
    "    cv=StratifiedKFold(n_splits=5, shuffle=True, random_state=RANDOM_STATE),\n",
    "    n_jobs=-1,\n",
    "    refit=True,\n",
    "    )\n",
    "\n",
    "svm_rbf_grid.fit(train_X, train_y)\n",
    "svm_rbf_best = svm_rbf_grid.best_estimator_\n",
    "svm_rbf_metrics = evaluate_classifier(\n",
    "    svm_rbf_best,\n",
    "    \"Support Vector Machine (RBF)\",\n",
    "    train_X,\n",
    "    train_y,\n",
    "    val_X,\n",
    "    val_y,\n",
    "    test_X,\n",
    "    test_y,\n",
    "    target_name=\"attack_success\",\n",
    ")\n",
    "plot_diagnostics(\n",
    "    svm_rbf_best, val_X, val_y, \"Support Vector Machine (RBF)\", \"validation\"\n",
    ")\n",
    "plot_diagnostics(\n",
    "    svm_rbf_best, test_X, test_y, \"Support Vector Machine (RBF)\", \"test\"\n",
    ")\n",
    "append_summary_entry(\"Support Vector Machine (RBF)\", svm_rbf_metrics)\n"
   ]
  },
  {
   "cell_type": "markdown",
   "id": "e8233ab6",
   "metadata": {},
   "source": [
    "### K-Nearest Neighbors Classifier\n",
    "Explores a non-parametric baseline across neighborhood sizes to inspect locality-driven performance and balanced accuracy."
   ]
  },
  {
   "cell_type": "code",
   "execution_count": null,
   "id": "f81d0a83",
   "metadata": {},
   "outputs": [],
   "source": [
    "knn_params = {\n",
    "    \"model__n_neighbors\": [3, 5, 7, 9],\n",
    "    \"model__weights\": [\"uniform\", \"distance\"],\n",
    "}\n",
    "\n",
    "knn_pipeline = Pipeline(\n",
    "    steps=[\n",
    "        (\"preprocessor\", PREPROCESSOR),\n",
    "        (\n",
    "            \"model\",\n",
    "            KNeighborsClassifier(),\n",
    "        ),\n",
    "    ]\n",
    ")\n",
    "\n",
    "knn_grid = GridSearchCV(\n",
    "    estimator=knn_pipeline,\n",
    "    param_grid=knn_params,\n",
    "    scoring=\"roc_auc\",\n",
    "    cv=StratifiedKFold(n_splits=5, shuffle=True, random_state=RANDOM_STATE),\n",
    "    n_jobs=-1,\n",
    "    refit=True,\n",
    "    )\n",
    "\n",
    "knn_grid.fit(train_X, train_y)\n",
    "knn_best = knn_grid.best_estimator_\n",
    "knn_metrics = evaluate_classifier(\n",
    "    knn_best,\n",
    "    \"K-Nearest Neighbors Classifier\",\n",
    "    train_X,\n",
    "    train_y,\n",
    "    val_X,\n",
    "    val_y,\n",
    "    test_X,\n",
    "    test_y,\n",
    "    target_name=\"attack_success\",\n",
    ")\n",
    "plot_diagnostics(\n",
    "    knn_best, val_X, val_y, \"K-Nearest Neighbors Classifier\", \"validation\"\n",
    ")\n",
    "plot_diagnostics(\n",
    "    knn_best, test_X, test_y, \"K-Nearest Neighbors Classifier\", \"test\"\n",
    ")\n",
    "append_summary_entry(\"K-Nearest Neighbors Classifier\", knn_metrics)\n"
   ]
  },
  {
   "cell_type": "markdown",
   "id": "4abb735e",
   "metadata": {},
   "source": [
    "## Severity Regression Experiments\n",
    "Translates the categorical severity indicators into an ordinal score and evaluates regression pipelines aligned with the implementation plan."
   ]
  },
  {
   "cell_type": "markdown",
   "id": "b335e5de",
   "metadata": {},
   "source": [
    "### Support Vector Regression (RBF Kernel)\n",
    "Models the severity score with a radial basis kernel to capture non-linear relationships in the engineered features."
   ]
  },
  {
   "cell_type": "code",
   "execution_count": null,
   "id": "e6adccde",
   "metadata": {},
   "outputs": [],
   "source": [
    "svr_params = {\n",
    "    \"model__C\": np.logspace(-2, 2, 5),\n",
    "    \"model__epsilon\": [0.1, 0.5, 1.0],\n",
    "    \"model__gamma\": np.logspace(-3, 0, 4),\n",
    "}\n",
    "\n",
    "svr_pipeline = Pipeline(\n",
    "    steps=[\n",
    "        (\"preprocessor\", REG_PREPROCESSOR),\n",
    "        (\"model\", SVR(kernel=\"rbf\")),\n",
    "    ]\n",
    ")\n",
    "\n",
    "svr_grid = GridSearchCV(\n",
    "    estimator=svr_pipeline,\n",
    "    param_grid=svr_params,\n",
    "    scoring=\"neg_root_mean_squared_error\",\n",
    "    cv=KFold(n_splits=5, shuffle=True, random_state=RANDOM_STATE),\n",
    "    n_jobs=-1,\n",
    "    refit=True,\n",
    "    )\n",
    "\n",
    "svr_grid.fit(train_reg_X, train_reg_y)\n",
    "svr_best = svr_grid.best_estimator_\n",
    "svr_metrics = evaluate_regressor(\n",
    "    svr_best,\n",
    "    \"Support Vector Regression (RBF)\",\n",
    "    train_reg_X,\n",
    "    train_reg_y,\n",
    "    val_reg_X,\n",
    "    val_reg_y,\n",
    "    test_reg_X,\n",
    "    test_reg_y,\n",
    "    target_name=SEVERITY_TARGET_NAME,\n",
    ")\n",
    "append_summary_entry(\"Support Vector Regression (RBF)\", svr_metrics)\n"
   ]
  },
  {
   "cell_type": "markdown",
   "id": "c0bbe8dc",
   "metadata": {},
   "source": [
    "### Random Forest Regressor\n",
    "Extends tree ensembles to the severity target and captures feature contributions for downstream SHAP analysis."
   ]
  },
  {
   "cell_type": "code",
   "execution_count": null,
   "id": "ba331d6f",
   "metadata": {},
   "outputs": [],
   "source": [
    "rf_reg_params = {\n",
    "    \"model__n_estimators\": [200, 400, 600],\n",
    "    \"model__max_depth\": [None, 10, 20],\n",
    "    \"model__min_samples_split\": [2, 5, 10],\n",
    "    \"model__min_samples_leaf\": [1, 2, 4],\n",
    "    \"model__max_features\": [\"auto\", \"sqrt\", 0.5],\n",
    "}\n",
    "\n",
    "rf_reg_pipeline = Pipeline(\n",
    "    steps=[\n",
    "        (\"preprocessor\", REG_PREPROCESSOR),\n",
    "        (\n",
    "            \"model\",\n",
    "            RandomForestRegressor(\n",
    "                random_state=RANDOM_STATE,\n",
    "                n_jobs=-1,\n",
    "            ),\n",
    "        ),\n",
    "    ]\n",
    ")\n",
    "\n",
    "rf_reg_search = RandomizedSearchCV(\n",
    "    estimator=rf_reg_pipeline,\n",
    "    param_distributions=rf_reg_params,\n",
    "    n_iter=20,\n",
    "    scoring=\"neg_root_mean_squared_error\",\n",
    "    cv=KFold(n_splits=5, shuffle=True, random_state=RANDOM_STATE),\n",
    "    n_jobs=-1,\n",
    "    random_state=RANDOM_STATE,\n",
    "    refit=True,\n",
    "    )\n",
    "\n",
    "rf_reg_search.fit(train_reg_X, train_reg_y)\n",
    "rf_reg_best = rf_reg_search.best_estimator_\n",
    "rf_reg_metrics = evaluate_regressor(\n",
    "    rf_reg_best,\n",
    "    \"Random Forest Regressor\",\n",
    "    train_reg_X,\n",
    "    train_reg_y,\n",
    "    val_reg_X,\n",
    "    val_reg_y,\n",
    "    test_reg_X,\n",
    "    test_reg_y,\n",
    "    target_name=SEVERITY_TARGET_NAME,\n",
    ")\n",
    "export_feature_importances(rf_reg_best, \"Random Forest Regressor\", SEVERITY_TARGET_NAME)\n",
    "append_summary_entry(\"Random Forest Regressor\", rf_reg_metrics)\n"
   ]
  },
  {
   "cell_type": "markdown",
   "id": "d57deb2e",
   "metadata": {},
   "source": [
    "## Consolidated Results & Next Steps\n",
    "Loads the aggregated metrics table and outlines follow-up analyses for the final report."
   ]
  },
  {
   "cell_type": "code",
   "execution_count": 18,
   "id": "41f64602",
   "metadata": {},
   "outputs": [
    {
     "data": {
      "application/vnd.microsoft.datawrangler.viewer.v0+json": {
       "columns": [
        {
         "name": "index",
         "rawType": "int64",
         "type": "integer"
        },
        {
         "name": "model",
         "rawType": "object",
         "type": "string"
        },
        {
         "name": "validation_accuracy",
         "rawType": "float64",
         "type": "float"
        },
        {
         "name": "validation_precision",
         "rawType": "float64",
         "type": "float"
        },
        {
         "name": "validation_recall",
         "rawType": "float64",
         "type": "float"
        },
        {
         "name": "validation_f1",
         "rawType": "float64",
         "type": "float"
        },
        {
         "name": "validation_roc_auc",
         "rawType": "float64",
         "type": "float"
        },
        {
         "name": "test_accuracy",
         "rawType": "float64",
         "type": "float"
        },
        {
         "name": "test_precision",
         "rawType": "float64",
         "type": "float"
        },
        {
         "name": "test_recall",
         "rawType": "float64",
         "type": "float"
        },
        {
         "name": "test_f1",
         "rawType": "float64",
         "type": "float"
        },
        {
         "name": "test_roc_auc",
         "rawType": "float64",
         "type": "float"
        },
        {
         "name": "cv_accuracy",
         "rawType": "float64",
         "type": "float"
        },
        {
         "name": "cv_f1",
         "rawType": "float64",
         "type": "float"
        },
        {
         "name": "cv_precision",
         "rawType": "float64",
         "type": "float"
        },
        {
         "name": "cv_recall",
         "rawType": "float64",
         "type": "float"
        },
        {
         "name": "cv_roc_auc",
         "rawType": "float64",
         "type": "float"
        }
       ],
       "ref": "90a6098d-b72f-485f-a102-d84a2fad73d3",
       "rows": [
        [
         "1",
         "Random Forest Ensemble",
         "1.0",
         "1.0",
         "1.0",
         "1.0",
         "1.0",
         "0.65675",
         "0.6580167982950984",
         "0.9965824947788114",
         "0.7926608275445485",
         "0.5156124357064202",
         "0.6619583333333334",
         "0.7962528050942826",
         "0.6629171918689547",
         "0.9967305878654512",
         "0.5037253892640425"
        ],
        [
         "3",
         "XGBoost Gradient Boosted Trees",
         "0.662375",
         "0.662375",
         "1.0",
         "0.7969020227084743",
         "0.685495730020802",
         "0.658375",
         "0.658375",
         "1.0",
         "0.7940001507499812",
         "0.5056743758176181",
         "0.6627083333333333",
         "0.7971432151359479",
         "0.6627083333333333",
         "1.0",
         "0.5031017240840312"
        ],
        [
         "2",
         "Gradient Boosting",
         "0.66675",
         "0.6654934003771213",
         "0.9990564257407056",
         "0.7988531763995775",
         "0.6576284991985033",
         "0.657875",
         "0.6587202007528231",
         "0.9967723561799886",
         "0.7932310946589106",
         "0.5038073359027493",
         "0.6597500000000001",
         "0.794266005256883",
         "0.6626732432524791",
         "0.9910719899402703",
         "0.5059543432583714"
        ],
        [
         "0",
         "Balanced Logistic Regression",
         "0.5195",
         "0.6802973977695167",
         "0.5180222683525193",
         "0.5881722734090422",
         "0.5310317853521922",
         "0.503125",
         "0.6594274432379073",
         "0.50730966394532",
         "0.5734520871338127",
         "0.5082792561795788",
         "0.4924166666666666",
         "0.5644968455527327",
         "0.6542786285087405",
         "0.496447657969192",
         "0.4931031784419496"
        ],
        [
         "4",
         "Support Vector Machine (RBF)",
         "0.337625",
         "0.0",
         "0.0",
         "0.0",
         "0.0",
         "0.341625",
         "0.0",
         "0.0",
         "0.0",
         "0.4838232250720421",
         "0.3372916666666666",
         "0.0",
         "0.0",
         "0.0",
         "0.5047182361143285"
        ]
       ],
       "shape": {
        "columns": 16,
        "rows": 5
       }
      },
      "text/html": [
       "<div>\n",
       "<style scoped>\n",
       "    .dataframe tbody tr th:only-of-type {\n",
       "        vertical-align: middle;\n",
       "    }\n",
       "\n",
       "    .dataframe tbody tr th {\n",
       "        vertical-align: top;\n",
       "    }\n",
       "\n",
       "    .dataframe thead th {\n",
       "        text-align: right;\n",
       "    }\n",
       "</style>\n",
       "<table border=\"1\" class=\"dataframe\">\n",
       "  <thead>\n",
       "    <tr style=\"text-align: right;\">\n",
       "      <th></th>\n",
       "      <th>model</th>\n",
       "      <th>validation_accuracy</th>\n",
       "      <th>validation_precision</th>\n",
       "      <th>validation_recall</th>\n",
       "      <th>validation_f1</th>\n",
       "      <th>validation_roc_auc</th>\n",
       "      <th>test_accuracy</th>\n",
       "      <th>test_precision</th>\n",
       "      <th>test_recall</th>\n",
       "      <th>test_f1</th>\n",
       "      <th>test_roc_auc</th>\n",
       "      <th>cv_accuracy</th>\n",
       "      <th>cv_f1</th>\n",
       "      <th>cv_precision</th>\n",
       "      <th>cv_recall</th>\n",
       "      <th>cv_roc_auc</th>\n",
       "    </tr>\n",
       "  </thead>\n",
       "  <tbody>\n",
       "    <tr>\n",
       "      <th>1</th>\n",
       "      <td>Random Forest Ensemble</td>\n",
       "      <td>1.000000</td>\n",
       "      <td>1.000000</td>\n",
       "      <td>1.000000</td>\n",
       "      <td>1.000000</td>\n",
       "      <td>1.000000</td>\n",
       "      <td>0.656750</td>\n",
       "      <td>0.658017</td>\n",
       "      <td>0.996582</td>\n",
       "      <td>0.792661</td>\n",
       "      <td>0.515612</td>\n",
       "      <td>0.661958</td>\n",
       "      <td>0.796253</td>\n",
       "      <td>0.662917</td>\n",
       "      <td>0.996731</td>\n",
       "      <td>0.503725</td>\n",
       "    </tr>\n",
       "    <tr>\n",
       "      <th>3</th>\n",
       "      <td>XGBoost Gradient Boosted Trees</td>\n",
       "      <td>0.662375</td>\n",
       "      <td>0.662375</td>\n",
       "      <td>1.000000</td>\n",
       "      <td>0.796902</td>\n",
       "      <td>0.685496</td>\n",
       "      <td>0.658375</td>\n",
       "      <td>0.658375</td>\n",
       "      <td>1.000000</td>\n",
       "      <td>0.794000</td>\n",
       "      <td>0.505674</td>\n",
       "      <td>0.662708</td>\n",
       "      <td>0.797143</td>\n",
       "      <td>0.662708</td>\n",
       "      <td>1.000000</td>\n",
       "      <td>0.503102</td>\n",
       "    </tr>\n",
       "    <tr>\n",
       "      <th>2</th>\n",
       "      <td>Gradient Boosting</td>\n",
       "      <td>0.666750</td>\n",
       "      <td>0.665493</td>\n",
       "      <td>0.999056</td>\n",
       "      <td>0.798853</td>\n",
       "      <td>0.657628</td>\n",
       "      <td>0.657875</td>\n",
       "      <td>0.658720</td>\n",
       "      <td>0.996772</td>\n",
       "      <td>0.793231</td>\n",
       "      <td>0.503807</td>\n",
       "      <td>0.659750</td>\n",
       "      <td>0.794266</td>\n",
       "      <td>0.662673</td>\n",
       "      <td>0.991072</td>\n",
       "      <td>0.505954</td>\n",
       "    </tr>\n",
       "    <tr>\n",
       "      <th>0</th>\n",
       "      <td>Balanced Logistic Regression</td>\n",
       "      <td>0.519500</td>\n",
       "      <td>0.680297</td>\n",
       "      <td>0.518022</td>\n",
       "      <td>0.588172</td>\n",
       "      <td>0.531032</td>\n",
       "      <td>0.503125</td>\n",
       "      <td>0.659427</td>\n",
       "      <td>0.507310</td>\n",
       "      <td>0.573452</td>\n",
       "      <td>0.508279</td>\n",
       "      <td>0.492417</td>\n",
       "      <td>0.564497</td>\n",
       "      <td>0.654279</td>\n",
       "      <td>0.496448</td>\n",
       "      <td>0.493103</td>\n",
       "    </tr>\n",
       "    <tr>\n",
       "      <th>4</th>\n",
       "      <td>Support Vector Machine (RBF)</td>\n",
       "      <td>0.337625</td>\n",
       "      <td>0.000000</td>\n",
       "      <td>0.000000</td>\n",
       "      <td>0.000000</td>\n",
       "      <td>0.000000</td>\n",
       "      <td>0.341625</td>\n",
       "      <td>0.000000</td>\n",
       "      <td>0.000000</td>\n",
       "      <td>0.000000</td>\n",
       "      <td>0.483823</td>\n",
       "      <td>0.337292</td>\n",
       "      <td>0.000000</td>\n",
       "      <td>0.000000</td>\n",
       "      <td>0.000000</td>\n",
       "      <td>0.504718</td>\n",
       "    </tr>\n",
       "  </tbody>\n",
       "</table>\n",
       "</div>"
      ],
      "text/plain": [
       "                            model  validation_accuracy  validation_precision  \\\n",
       "1          Random Forest Ensemble             1.000000              1.000000   \n",
       "3  XGBoost Gradient Boosted Trees             0.662375              0.662375   \n",
       "2               Gradient Boosting             0.666750              0.665493   \n",
       "0    Balanced Logistic Regression             0.519500              0.680297   \n",
       "4    Support Vector Machine (RBF)             0.337625              0.000000   \n",
       "\n",
       "   validation_recall  validation_f1  validation_roc_auc  test_accuracy  \\\n",
       "1           1.000000       1.000000            1.000000       0.656750   \n",
       "3           1.000000       0.796902            0.685496       0.658375   \n",
       "2           0.999056       0.798853            0.657628       0.657875   \n",
       "0           0.518022       0.588172            0.531032       0.503125   \n",
       "4           0.000000       0.000000            0.000000       0.341625   \n",
       "\n",
       "   test_precision  test_recall   test_f1  test_roc_auc  cv_accuracy     cv_f1  \\\n",
       "1        0.658017     0.996582  0.792661      0.515612     0.661958  0.796253   \n",
       "3        0.658375     1.000000  0.794000      0.505674     0.662708  0.797143   \n",
       "2        0.658720     0.996772  0.793231      0.503807     0.659750  0.794266   \n",
       "0        0.659427     0.507310  0.573452      0.508279     0.492417  0.564497   \n",
       "4        0.000000     0.000000  0.000000      0.483823     0.337292  0.000000   \n",
       "\n",
       "   cv_precision  cv_recall  cv_roc_auc  \n",
       "1      0.662917   0.996731    0.503725  \n",
       "3      0.662708   1.000000    0.503102  \n",
       "2      0.662673   0.991072    0.505954  \n",
       "0      0.654279   0.496448    0.493103  \n",
       "4      0.000000   0.000000    0.504718  "
      ]
     },
     "metadata": {},
     "output_type": "display_data"
    }
   ],
   "source": [
    "if ARTIFACT_METRICS.exists():\n",
    "    phase4_metrics = pd.read_csv(ARTIFACT_METRICS)\n",
    "    display(phase4_metrics.sort_values(\"validation_roc_auc\", ascending=False))\n",
    "else:\n",
    "    display(Markdown(\"No metrics logged yet. Run the experiments above to populate the table.\"))\n"
   ]
  },
  {
   "cell_type": "markdown",
   "id": "f3f7220e",
   "metadata": {},
   "source": [
    "### Reporting Checklist\n",
    "- Integrate best-performing model metrics into `reports/phase4_advanced_models_report.md`.\n",
    "- Refresh visualization gallery with ROC, PR, and feature importance plots.\n",
    "- Update `plan/data-cybersecurity-attacks-analysis-1.md` TASK-036 to reflect experiment outcomes.\n",
    "- Prepare deployment considerations if gap between validation and test metrics is minimal."
   ]
  }
 ],
 "metadata": {
  "kernelspec": {
   "display_name": ".venv",
   "language": "python",
   "name": "python3"
  },
  "language_info": {
   "codemirror_mode": {
    "name": "ipython",
    "version": 3
   },
   "file_extension": ".py",
   "mimetype": "text/x-python",
   "name": "python",
   "nbconvert_exporter": "python",
   "pygments_lexer": "ipython3",
   "version": "3.13.9"
  }
 },
 "nbformat": 4,
 "nbformat_minor": 5
}
